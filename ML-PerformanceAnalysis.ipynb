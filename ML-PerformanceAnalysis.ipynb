{
 "cells": [
  {
   "cell_type": "code",
   "execution_count": 59,
   "id": "8b24ea1f",
   "metadata": {},
   "outputs": [],
   "source": [
    "import numpy as np # linear algebra\n",
    "import pandas as pd # data processing"
   ]
  },
  {
   "cell_type": "code",
   "execution_count": 60,
   "id": "522ba1e7",
   "metadata": {},
   "outputs": [],
   "source": [
    "# read the data\n",
    "df_dataset = pd.read_csv(\"cleaned_ids2018_sampled.csv\",encoding=\"latin-1\")"
   ]
  },
  {
   "cell_type": "code",
   "execution_count": 61,
   "id": "1192edc8",
   "metadata": {},
   "outputs": [
    {
     "data": {
      "text/html": [
       "<div>\n",
       "<style scoped>\n",
       "    .dataframe tbody tr th:only-of-type {\n",
       "        vertical-align: middle;\n",
       "    }\n",
       "\n",
       "    .dataframe tbody tr th {\n",
       "        vertical-align: top;\n",
       "    }\n",
       "\n",
       "    .dataframe thead th {\n",
       "        text-align: right;\n",
       "    }\n",
       "</style>\n",
       "<table border=\"1\" class=\"dataframe\">\n",
       "  <thead>\n",
       "    <tr style=\"text-align: right;\">\n",
       "      <th></th>\n",
       "      <th>Unnamed: 0</th>\n",
       "      <th>Dst Port</th>\n",
       "      <th>Protocol</th>\n",
       "      <th>Flow Duration</th>\n",
       "      <th>Tot Fwd Pkts</th>\n",
       "      <th>Tot Bwd Pkts</th>\n",
       "      <th>TotLen Fwd Pkts</th>\n",
       "      <th>TotLen Bwd Pkts</th>\n",
       "      <th>Fwd Pkt Len Max</th>\n",
       "      <th>Fwd Pkt Len Min</th>\n",
       "      <th>...</th>\n",
       "      <th>Fwd Seg Size Min</th>\n",
       "      <th>Active Mean</th>\n",
       "      <th>Active Std</th>\n",
       "      <th>Active Max</th>\n",
       "      <th>Active Min</th>\n",
       "      <th>Idle Mean</th>\n",
       "      <th>Idle Std</th>\n",
       "      <th>Idle Max</th>\n",
       "      <th>Idle Min</th>\n",
       "      <th>Label</th>\n",
       "    </tr>\n",
       "  </thead>\n",
       "  <tbody>\n",
       "    <tr>\n",
       "      <th>0</th>\n",
       "      <td>146275</td>\n",
       "      <td>3389</td>\n",
       "      <td>6</td>\n",
       "      <td>5206015</td>\n",
       "      <td>9</td>\n",
       "      <td>11</td>\n",
       "      <td>1213</td>\n",
       "      <td>1948</td>\n",
       "      <td>661</td>\n",
       "      <td>0</td>\n",
       "      <td>...</td>\n",
       "      <td>20</td>\n",
       "      <td>0.000000</td>\n",
       "      <td>0.000000</td>\n",
       "      <td>0</td>\n",
       "      <td>0</td>\n",
       "      <td>0.000000e+00</td>\n",
       "      <td>0.000000e+00</td>\n",
       "      <td>0</td>\n",
       "      <td>0</td>\n",
       "      <td>1</td>\n",
       "    </tr>\n",
       "    <tr>\n",
       "      <th>1</th>\n",
       "      <td>512109</td>\n",
       "      <td>443</td>\n",
       "      <td>6</td>\n",
       "      <td>60991608</td>\n",
       "      <td>14</td>\n",
       "      <td>14</td>\n",
       "      <td>1211</td>\n",
       "      <td>3396</td>\n",
       "      <td>875</td>\n",
       "      <td>0</td>\n",
       "      <td>...</td>\n",
       "      <td>20</td>\n",
       "      <td>116504.666667</td>\n",
       "      <td>117401.762867</td>\n",
       "      <td>356150</td>\n",
       "      <td>68519</td>\n",
       "      <td>1.000239e+07</td>\n",
       "      <td>1.665183e+04</td>\n",
       "      <td>10009249</td>\n",
       "      <td>9968397</td>\n",
       "      <td>1</td>\n",
       "    </tr>\n",
       "    <tr>\n",
       "      <th>2</th>\n",
       "      <td>807703</td>\n",
       "      <td>53</td>\n",
       "      <td>17</td>\n",
       "      <td>27292</td>\n",
       "      <td>1</td>\n",
       "      <td>1</td>\n",
       "      <td>45</td>\n",
       "      <td>163</td>\n",
       "      <td>45</td>\n",
       "      <td>45</td>\n",
       "      <td>...</td>\n",
       "      <td>8</td>\n",
       "      <td>0.000000</td>\n",
       "      <td>0.000000</td>\n",
       "      <td>0</td>\n",
       "      <td>0</td>\n",
       "      <td>0.000000e+00</td>\n",
       "      <td>0.000000e+00</td>\n",
       "      <td>0</td>\n",
       "      <td>0</td>\n",
       "      <td>1</td>\n",
       "    </tr>\n",
       "    <tr>\n",
       "      <th>3</th>\n",
       "      <td>491912</td>\n",
       "      <td>443</td>\n",
       "      <td>6</td>\n",
       "      <td>70343424</td>\n",
       "      <td>17</td>\n",
       "      <td>20</td>\n",
       "      <td>1118</td>\n",
       "      <td>5653</td>\n",
       "      <td>258</td>\n",
       "      <td>0</td>\n",
       "      <td>...</td>\n",
       "      <td>20</td>\n",
       "      <td>527683.500000</td>\n",
       "      <td>386311.526445</td>\n",
       "      <td>800847</td>\n",
       "      <td>254520</td>\n",
       "      <td>3.457024e+07</td>\n",
       "      <td>3.406089e+07</td>\n",
       "      <td>58654921</td>\n",
       "      <td>10485549</td>\n",
       "      <td>1</td>\n",
       "    </tr>\n",
       "    <tr>\n",
       "      <th>4</th>\n",
       "      <td>858679</td>\n",
       "      <td>53</td>\n",
       "      <td>17</td>\n",
       "      <td>137267</td>\n",
       "      <td>2</td>\n",
       "      <td>2</td>\n",
       "      <td>94</td>\n",
       "      <td>214</td>\n",
       "      <td>47</td>\n",
       "      <td>47</td>\n",
       "      <td>...</td>\n",
       "      <td>8</td>\n",
       "      <td>0.000000</td>\n",
       "      <td>0.000000</td>\n",
       "      <td>0</td>\n",
       "      <td>0</td>\n",
       "      <td>0.000000e+00</td>\n",
       "      <td>0.000000e+00</td>\n",
       "      <td>0</td>\n",
       "      <td>0</td>\n",
       "      <td>1</td>\n",
       "    </tr>\n",
       "    <tr>\n",
       "      <th>...</th>\n",
       "      <td>...</td>\n",
       "      <td>...</td>\n",
       "      <td>...</td>\n",
       "      <td>...</td>\n",
       "      <td>...</td>\n",
       "      <td>...</td>\n",
       "      <td>...</td>\n",
       "      <td>...</td>\n",
       "      <td>...</td>\n",
       "      <td>...</td>\n",
       "      <td>...</td>\n",
       "      <td>...</td>\n",
       "      <td>...</td>\n",
       "      <td>...</td>\n",
       "      <td>...</td>\n",
       "      <td>...</td>\n",
       "      <td>...</td>\n",
       "      <td>...</td>\n",
       "      <td>...</td>\n",
       "      <td>...</td>\n",
       "      <td>...</td>\n",
       "    </tr>\n",
       "    <tr>\n",
       "      <th>1252841</th>\n",
       "      <td>940974</td>\n",
       "      <td>64678</td>\n",
       "      <td>6</td>\n",
       "      <td>1397</td>\n",
       "      <td>5</td>\n",
       "      <td>2</td>\n",
       "      <td>935</td>\n",
       "      <td>267</td>\n",
       "      <td>935</td>\n",
       "      <td>0</td>\n",
       "      <td>...</td>\n",
       "      <td>20</td>\n",
       "      <td>0.000000</td>\n",
       "      <td>0.000000</td>\n",
       "      <td>0</td>\n",
       "      <td>0</td>\n",
       "      <td>0.000000e+00</td>\n",
       "      <td>0.000000e+00</td>\n",
       "      <td>0</td>\n",
       "      <td>0</td>\n",
       "      <td>1</td>\n",
       "    </tr>\n",
       "    <tr>\n",
       "      <th>1252842</th>\n",
       "      <td>45433</td>\n",
       "      <td>51274</td>\n",
       "      <td>6</td>\n",
       "      <td>1</td>\n",
       "      <td>3</td>\n",
       "      <td>0</td>\n",
       "      <td>77</td>\n",
       "      <td>0</td>\n",
       "      <td>46</td>\n",
       "      <td>0</td>\n",
       "      <td>...</td>\n",
       "      <td>20</td>\n",
       "      <td>0.000000</td>\n",
       "      <td>0.000000</td>\n",
       "      <td>0</td>\n",
       "      <td>0</td>\n",
       "      <td>0.000000e+00</td>\n",
       "      <td>0.000000e+00</td>\n",
       "      <td>0</td>\n",
       "      <td>0</td>\n",
       "      <td>1</td>\n",
       "    </tr>\n",
       "    <tr>\n",
       "      <th>1252843</th>\n",
       "      <td>912254</td>\n",
       "      <td>80</td>\n",
       "      <td>6</td>\n",
       "      <td>233</td>\n",
       "      <td>2</td>\n",
       "      <td>0</td>\n",
       "      <td>0</td>\n",
       "      <td>0</td>\n",
       "      <td>0</td>\n",
       "      <td>0</td>\n",
       "      <td>...</td>\n",
       "      <td>20</td>\n",
       "      <td>0.000000</td>\n",
       "      <td>0.000000</td>\n",
       "      <td>0</td>\n",
       "      <td>0</td>\n",
       "      <td>0.000000e+00</td>\n",
       "      <td>0.000000e+00</td>\n",
       "      <td>0</td>\n",
       "      <td>0</td>\n",
       "      <td>1</td>\n",
       "    </tr>\n",
       "    <tr>\n",
       "      <th>1252844</th>\n",
       "      <td>990683</td>\n",
       "      <td>53</td>\n",
       "      <td>17</td>\n",
       "      <td>23818</td>\n",
       "      <td>1</td>\n",
       "      <td>1</td>\n",
       "      <td>34</td>\n",
       "      <td>204</td>\n",
       "      <td>34</td>\n",
       "      <td>34</td>\n",
       "      <td>...</td>\n",
       "      <td>8</td>\n",
       "      <td>0.000000</td>\n",
       "      <td>0.000000</td>\n",
       "      <td>0</td>\n",
       "      <td>0</td>\n",
       "      <td>0.000000e+00</td>\n",
       "      <td>0.000000e+00</td>\n",
       "      <td>0</td>\n",
       "      <td>0</td>\n",
       "      <td>1</td>\n",
       "    </tr>\n",
       "    <tr>\n",
       "      <th>1252845</th>\n",
       "      <td>576130</td>\n",
       "      <td>80</td>\n",
       "      <td>6</td>\n",
       "      <td>70</td>\n",
       "      <td>2</td>\n",
       "      <td>0</td>\n",
       "      <td>0</td>\n",
       "      <td>0</td>\n",
       "      <td>0</td>\n",
       "      <td>0</td>\n",
       "      <td>...</td>\n",
       "      <td>20</td>\n",
       "      <td>0.000000</td>\n",
       "      <td>0.000000</td>\n",
       "      <td>0</td>\n",
       "      <td>0</td>\n",
       "      <td>0.000000e+00</td>\n",
       "      <td>0.000000e+00</td>\n",
       "      <td>0</td>\n",
       "      <td>0</td>\n",
       "      <td>1</td>\n",
       "    </tr>\n",
       "  </tbody>\n",
       "</table>\n",
       "<p>1252846 rows × 79 columns</p>\n",
       "</div>"
      ],
      "text/plain": [
       "         Unnamed: 0  Dst Port  Protocol  Flow Duration  Tot Fwd Pkts  \\\n",
       "0            146275      3389         6        5206015             9   \n",
       "1            512109       443         6       60991608            14   \n",
       "2            807703        53        17          27292             1   \n",
       "3            491912       443         6       70343424            17   \n",
       "4            858679        53        17         137267             2   \n",
       "...             ...       ...       ...            ...           ...   \n",
       "1252841      940974     64678         6           1397             5   \n",
       "1252842       45433     51274         6              1             3   \n",
       "1252843      912254        80         6            233             2   \n",
       "1252844      990683        53        17          23818             1   \n",
       "1252845      576130        80         6             70             2   \n",
       "\n",
       "         Tot Bwd Pkts  TotLen Fwd Pkts  TotLen Bwd Pkts  Fwd Pkt Len Max  \\\n",
       "0                  11             1213             1948              661   \n",
       "1                  14             1211             3396              875   \n",
       "2                   1               45              163               45   \n",
       "3                  20             1118             5653              258   \n",
       "4                   2               94              214               47   \n",
       "...               ...              ...              ...              ...   \n",
       "1252841             2              935              267              935   \n",
       "1252842             0               77                0               46   \n",
       "1252843             0                0                0                0   \n",
       "1252844             1               34              204               34   \n",
       "1252845             0                0                0                0   \n",
       "\n",
       "         Fwd Pkt Len Min  ...  Fwd Seg Size Min    Active Mean     Active Std  \\\n",
       "0                      0  ...                20       0.000000       0.000000   \n",
       "1                      0  ...                20  116504.666667  117401.762867   \n",
       "2                     45  ...                 8       0.000000       0.000000   \n",
       "3                      0  ...                20  527683.500000  386311.526445   \n",
       "4                     47  ...                 8       0.000000       0.000000   \n",
       "...                  ...  ...               ...            ...            ...   \n",
       "1252841                0  ...                20       0.000000       0.000000   \n",
       "1252842                0  ...                20       0.000000       0.000000   \n",
       "1252843                0  ...                20       0.000000       0.000000   \n",
       "1252844               34  ...                 8       0.000000       0.000000   \n",
       "1252845                0  ...                20       0.000000       0.000000   \n",
       "\n",
       "         Active Max  Active Min     Idle Mean      Idle Std  Idle Max  \\\n",
       "0                 0           0  0.000000e+00  0.000000e+00         0   \n",
       "1            356150       68519  1.000239e+07  1.665183e+04  10009249   \n",
       "2                 0           0  0.000000e+00  0.000000e+00         0   \n",
       "3            800847      254520  3.457024e+07  3.406089e+07  58654921   \n",
       "4                 0           0  0.000000e+00  0.000000e+00         0   \n",
       "...             ...         ...           ...           ...       ...   \n",
       "1252841           0           0  0.000000e+00  0.000000e+00         0   \n",
       "1252842           0           0  0.000000e+00  0.000000e+00         0   \n",
       "1252843           0           0  0.000000e+00  0.000000e+00         0   \n",
       "1252844           0           0  0.000000e+00  0.000000e+00         0   \n",
       "1252845           0           0  0.000000e+00  0.000000e+00         0   \n",
       "\n",
       "         Idle Min  Label  \n",
       "0               0      1  \n",
       "1         9968397      1  \n",
       "2               0      1  \n",
       "3        10485549      1  \n",
       "4               0      1  \n",
       "...           ...    ...  \n",
       "1252841         0      1  \n",
       "1252842         0      1  \n",
       "1252843         0      1  \n",
       "1252844         0      1  \n",
       "1252845         0      1  \n",
       "\n",
       "[1252846 rows x 79 columns]"
      ]
     },
     "execution_count": 61,
     "metadata": {},
     "output_type": "execute_result"
    }
   ],
   "source": [
    "# Displaying the data\n",
    "df_dataset"
   ]
  },
  {
   "cell_type": "code",
   "execution_count": 62,
   "id": "11905983",
   "metadata": {},
   "outputs": [
    {
     "name": "stdout",
     "output_type": "stream",
     "text": [
      "<class 'pandas.core.frame.DataFrame'>\n",
      "RangeIndex: 1252846 entries, 0 to 1252845\n",
      "Data columns (total 79 columns):\n",
      " #   Column             Non-Null Count    Dtype  \n",
      "---  ------             --------------    -----  \n",
      " 0   Unnamed: 0         1252846 non-null  int64  \n",
      " 1   Dst Port           1252846 non-null  int64  \n",
      " 2   Protocol           1252846 non-null  int64  \n",
      " 3   Flow Duration      1252846 non-null  int64  \n",
      " 4   Tot Fwd Pkts       1252846 non-null  int64  \n",
      " 5   Tot Bwd Pkts       1252846 non-null  int64  \n",
      " 6   TotLen Fwd Pkts    1252846 non-null  int64  \n",
      " 7   TotLen Bwd Pkts    1252846 non-null  int64  \n",
      " 8   Fwd Pkt Len Max    1252846 non-null  int64  \n",
      " 9   Fwd Pkt Len Min    1252846 non-null  int64  \n",
      " 10  Fwd Pkt Len Mean   1252846 non-null  float64\n",
      " 11  Fwd Pkt Len Std    1252846 non-null  float64\n",
      " 12  Bwd Pkt Len Max    1252846 non-null  int64  \n",
      " 13  Bwd Pkt Len Min    1252846 non-null  int64  \n",
      " 14  Bwd Pkt Len Mean   1252846 non-null  float64\n",
      " 15  Bwd Pkt Len Std    1252846 non-null  float64\n",
      " 16  Flow Byts/s        1252846 non-null  float64\n",
      " 17  Flow Pkts/s        1252846 non-null  float64\n",
      " 18  Flow IAT Mean      1252846 non-null  float64\n",
      " 19  Flow IAT Std       1252846 non-null  float64\n",
      " 20  Flow IAT Max       1252846 non-null  int64  \n",
      " 21  Flow IAT Min       1252846 non-null  int64  \n",
      " 22  Fwd IAT Tot        1252846 non-null  int64  \n",
      " 23  Fwd IAT Mean       1252846 non-null  float64\n",
      " 24  Fwd IAT Std        1252846 non-null  float64\n",
      " 25  Fwd IAT Max        1252846 non-null  int64  \n",
      " 26  Fwd IAT Min        1252846 non-null  int64  \n",
      " 27  Bwd IAT Tot        1252846 non-null  int64  \n",
      " 28  Bwd IAT Mean       1252846 non-null  float64\n",
      " 29  Bwd IAT Std        1252846 non-null  float64\n",
      " 30  Bwd IAT Max        1252846 non-null  int64  \n",
      " 31  Bwd IAT Min        1252846 non-null  int64  \n",
      " 32  Fwd PSH Flags      1252846 non-null  int64  \n",
      " 33  Bwd PSH Flags      1252846 non-null  int64  \n",
      " 34  Fwd URG Flags      1252846 non-null  int64  \n",
      " 35  Bwd URG Flags      1252846 non-null  int64  \n",
      " 36  Fwd Header Len     1252846 non-null  int64  \n",
      " 37  Bwd Header Len     1252846 non-null  int64  \n",
      " 38  Fwd Pkts/s         1252846 non-null  float64\n",
      " 39  Bwd Pkts/s         1252846 non-null  float64\n",
      " 40  Pkt Len Min        1252846 non-null  int64  \n",
      " 41  Pkt Len Max        1252846 non-null  int64  \n",
      " 42  Pkt Len Mean       1252846 non-null  float64\n",
      " 43  Pkt Len Std        1252846 non-null  float64\n",
      " 44  Pkt Len Var        1252846 non-null  float64\n",
      " 45  FIN Flag Cnt       1252846 non-null  int64  \n",
      " 46  SYN Flag Cnt       1252846 non-null  int64  \n",
      " 47  RST Flag Cnt       1252846 non-null  int64  \n",
      " 48  PSH Flag Cnt       1252846 non-null  int64  \n",
      " 49  ACK Flag Cnt       1252846 non-null  int64  \n",
      " 50  URG Flag Cnt       1252846 non-null  int64  \n",
      " 51  CWE Flag Count     1252846 non-null  int64  \n",
      " 52  ECE Flag Cnt       1252846 non-null  int64  \n",
      " 53  Pkt Size Avg       1252846 non-null  float64\n",
      " 54  Fwd Seg Size Avg   1252846 non-null  float64\n",
      " 55  Bwd Seg Size Avg   1252846 non-null  float64\n",
      " 56  Fwd Byts/b Avg     1252846 non-null  int64  \n",
      " 57  Fwd Pkts/b Avg     1252846 non-null  int64  \n",
      " 58  Fwd Blk Rate Avg   1252846 non-null  int64  \n",
      " 59  Bwd Byts/b Avg     1252846 non-null  int64  \n",
      " 60  Bwd Pkts/b Avg     1252846 non-null  int64  \n",
      " 61  Bwd Blk Rate Avg   1252846 non-null  int64  \n",
      " 62  Subflow Fwd Pkts   1252846 non-null  int64  \n",
      " 63  Subflow Fwd Byts   1252846 non-null  int64  \n",
      " 64  Subflow Bwd Pkts   1252846 non-null  int64  \n",
      " 65  Subflow Bwd Byts   1252846 non-null  int64  \n",
      " 66  Init Fwd Win Byts  1252846 non-null  int64  \n",
      " 67  Init Bwd Win Byts  1252846 non-null  int64  \n",
      " 68  Fwd Act Data Pkts  1252846 non-null  int64  \n",
      " 69  Fwd Seg Size Min   1252846 non-null  int64  \n",
      " 70  Active Mean        1252846 non-null  float64\n",
      " 71  Active Std         1252846 non-null  float64\n",
      " 72  Active Max         1252846 non-null  int64  \n",
      " 73  Active Min         1252846 non-null  int64  \n",
      " 74  Idle Mean          1252846 non-null  float64\n",
      " 75  Idle Std           1252846 non-null  float64\n",
      " 76  Idle Max           1252846 non-null  int64  \n",
      " 77  Idle Min           1252846 non-null  int64  \n",
      " 78  Label              1252846 non-null  int64  \n",
      "dtypes: float64(24), int64(55)\n",
      "memory usage: 755.1 MB\n"
     ]
    }
   ],
   "source": [
    "df_dataset.info()"
   ]
  },
  {
   "cell_type": "code",
   "execution_count": 63,
   "id": "90e5f86d",
   "metadata": {},
   "outputs": [],
   "source": [
    "## Taking care of missing data, Removing duplicates"
   ]
  },
  {
   "cell_type": "code",
   "execution_count": 64,
   "id": "c50cde11",
   "metadata": {},
   "outputs": [],
   "source": [
    "# replace +ve and -ve infinity with NaN\n",
    "df_dataset.replace([np.inf, -np.inf], np.nan, inplace=True)"
   ]
  },
  {
   "cell_type": "code",
   "execution_count": 65,
   "id": "0fba18f5",
   "metadata": {},
   "outputs": [],
   "source": [
    "# drop missing values (nan) \n",
    "df_dataset.dropna(inplace=True)"
   ]
  },
  {
   "cell_type": "code",
   "execution_count": 66,
   "id": "41fdc77e",
   "metadata": {},
   "outputs": [
    {
     "name": "stdout",
     "output_type": "stream",
     "text": [
      "117437\n"
     ]
    }
   ],
   "source": [
    "print(df_dataset.duplicated().sum())"
   ]
  },
  {
   "cell_type": "code",
   "execution_count": 67,
   "id": "554da37e",
   "metadata": {},
   "outputs": [],
   "source": [
    "df_dataset.drop_duplicates(inplace = True)"
   ]
  },
  {
   "cell_type": "code",
   "execution_count": 68,
   "id": "9618681c",
   "metadata": {},
   "outputs": [
    {
     "name": "stdout",
     "output_type": "stream",
     "text": [
      "0\n"
     ]
    }
   ],
   "source": [
    "print(df_dataset.duplicated().sum())"
   ]
  },
  {
   "cell_type": "markdown",
   "id": "e91b2237",
   "metadata": {},
   "source": [
    "## Implementing binary classification\n"
   ]
  },
  {
   "cell_type": "code",
   "execution_count": 69,
   "id": "4b1fd53c",
   "metadata": {},
   "outputs": [
    {
     "data": {
      "text/plain": [
       "1     880060\n",
       "4     124280\n",
       "5      52051\n",
       "2      35127\n",
       "3      33817\n",
       "6       7598\n",
       "7       2028\n",
       "8        301\n",
       "9         91\n",
       "10        46\n",
       "11        10\n",
       "Name: Label, dtype: int64"
      ]
     },
     "execution_count": 69,
     "metadata": {},
     "output_type": "execute_result"
    }
   ],
   "source": [
    "df_dataset[\"Label\"].value_counts()"
   ]
  },
  {
   "cell_type": "code",
   "execution_count": 70,
   "id": "a7789cb3",
   "metadata": {},
   "outputs": [],
   "source": [
    "old_value = 1\n",
    "new_value = 0\n",
    "df_dataset['Label'] = df_dataset['Label'].replace(old_value, new_value)"
   ]
  },
  {
   "cell_type": "code",
   "execution_count": 71,
   "id": "97555420",
   "metadata": {},
   "outputs": [],
   "source": [
    "for i in range(2, 12):\n",
    "    old_value = i\n",
    "    new_value = 1\n",
    "    df_dataset['Label'] = df_dataset['Label'].replace(old_value, new_value)"
   ]
  },
  {
   "cell_type": "code",
   "execution_count": 72,
   "id": "9344d036",
   "metadata": {},
   "outputs": [
    {
     "data": {
      "text/plain": [
       "0    880060\n",
       "1    255349\n",
       "Name: Label, dtype: int64"
      ]
     },
     "execution_count": 72,
     "metadata": {},
     "output_type": "execute_result"
    }
   ],
   "source": [
    "df_dataset[\"Label\"].value_counts()"
   ]
  },
  {
   "cell_type": "markdown",
   "id": "27a53ea9",
   "metadata": {},
   "source": [
    "# # Balancing the data (Undersampling)"
   ]
  },
  {
   "cell_type": "code",
   "execution_count": 73,
   "id": "73886b21",
   "metadata": {},
   "outputs": [
    {
     "data": {
      "text/html": [
       "        <script type=\"text/javascript\">\n",
       "        window.PlotlyConfig = {MathJaxConfig: 'local'};\n",
       "        if (window.MathJax && window.MathJax.Hub && window.MathJax.Hub.Config) {window.MathJax.Hub.Config({SVG: {font: \"STIX-Web\"}});}\n",
       "        if (typeof require !== 'undefined') {\n",
       "        require.undef(\"plotly\");\n",
       "        requirejs.config({\n",
       "            paths: {\n",
       "                'plotly': ['https://cdn.plot.ly/plotly-2.12.1.min']\n",
       "            }\n",
       "        });\n",
       "        require(['plotly'], function(Plotly) {\n",
       "            window._Plotly = Plotly;\n",
       "        });\n",
       "        }\n",
       "        </script>\n",
       "        "
      ]
     },
     "metadata": {},
     "output_type": "display_data"
    },
    {
     "data": {
      "application/vnd.plotly.v1+json": {
       "config": {
        "linkText": "Export to plot.ly",
        "plotlyServerURL": "https://plot.ly",
        "showLink": false
       },
       "data": [
        {
         "name": "Benign",
         "orientation": "v",
         "text": [
          880060
         ],
         "textposition": "outside",
         "type": "bar",
         "x": [
          "Benign"
         ],
         "y": [
          880060
         ]
        },
        {
         "name": "Malicious",
         "orientation": "v",
         "text": [
          255349
         ],
         "textposition": "outside",
         "type": "bar",
         "x": [
          "Malicious"
         ],
         "y": [
          255349
         ]
        }
       ],
       "layout": {
        "height": 600,
        "template": {
         "data": {
          "bar": [
           {
            "error_x": {
             "color": "#2a3f5f"
            },
            "error_y": {
             "color": "#2a3f5f"
            },
            "marker": {
             "line": {
              "color": "#E5ECF6",
              "width": 0.5
             },
             "pattern": {
              "fillmode": "overlay",
              "size": 10,
              "solidity": 0.2
             }
            },
            "type": "bar"
           }
          ],
          "barpolar": [
           {
            "marker": {
             "line": {
              "color": "#E5ECF6",
              "width": 0.5
             },
             "pattern": {
              "fillmode": "overlay",
              "size": 10,
              "solidity": 0.2
             }
            },
            "type": "barpolar"
           }
          ],
          "carpet": [
           {
            "aaxis": {
             "endlinecolor": "#2a3f5f",
             "gridcolor": "white",
             "linecolor": "white",
             "minorgridcolor": "white",
             "startlinecolor": "#2a3f5f"
            },
            "baxis": {
             "endlinecolor": "#2a3f5f",
             "gridcolor": "white",
             "linecolor": "white",
             "minorgridcolor": "white",
             "startlinecolor": "#2a3f5f"
            },
            "type": "carpet"
           }
          ],
          "choropleth": [
           {
            "colorbar": {
             "outlinewidth": 0,
             "ticks": ""
            },
            "type": "choropleth"
           }
          ],
          "contour": [
           {
            "colorbar": {
             "outlinewidth": 0,
             "ticks": ""
            },
            "colorscale": [
             [
              0,
              "#0d0887"
             ],
             [
              0.1111111111111111,
              "#46039f"
             ],
             [
              0.2222222222222222,
              "#7201a8"
             ],
             [
              0.3333333333333333,
              "#9c179e"
             ],
             [
              0.4444444444444444,
              "#bd3786"
             ],
             [
              0.5555555555555556,
              "#d8576b"
             ],
             [
              0.6666666666666666,
              "#ed7953"
             ],
             [
              0.7777777777777778,
              "#fb9f3a"
             ],
             [
              0.8888888888888888,
              "#fdca26"
             ],
             [
              1,
              "#f0f921"
             ]
            ],
            "type": "contour"
           }
          ],
          "contourcarpet": [
           {
            "colorbar": {
             "outlinewidth": 0,
             "ticks": ""
            },
            "type": "contourcarpet"
           }
          ],
          "heatmap": [
           {
            "colorbar": {
             "outlinewidth": 0,
             "ticks": ""
            },
            "colorscale": [
             [
              0,
              "#0d0887"
             ],
             [
              0.1111111111111111,
              "#46039f"
             ],
             [
              0.2222222222222222,
              "#7201a8"
             ],
             [
              0.3333333333333333,
              "#9c179e"
             ],
             [
              0.4444444444444444,
              "#bd3786"
             ],
             [
              0.5555555555555556,
              "#d8576b"
             ],
             [
              0.6666666666666666,
              "#ed7953"
             ],
             [
              0.7777777777777778,
              "#fb9f3a"
             ],
             [
              0.8888888888888888,
              "#fdca26"
             ],
             [
              1,
              "#f0f921"
             ]
            ],
            "type": "heatmap"
           }
          ],
          "heatmapgl": [
           {
            "colorbar": {
             "outlinewidth": 0,
             "ticks": ""
            },
            "colorscale": [
             [
              0,
              "#0d0887"
             ],
             [
              0.1111111111111111,
              "#46039f"
             ],
             [
              0.2222222222222222,
              "#7201a8"
             ],
             [
              0.3333333333333333,
              "#9c179e"
             ],
             [
              0.4444444444444444,
              "#bd3786"
             ],
             [
              0.5555555555555556,
              "#d8576b"
             ],
             [
              0.6666666666666666,
              "#ed7953"
             ],
             [
              0.7777777777777778,
              "#fb9f3a"
             ],
             [
              0.8888888888888888,
              "#fdca26"
             ],
             [
              1,
              "#f0f921"
             ]
            ],
            "type": "heatmapgl"
           }
          ],
          "histogram": [
           {
            "marker": {
             "pattern": {
              "fillmode": "overlay",
              "size": 10,
              "solidity": 0.2
             }
            },
            "type": "histogram"
           }
          ],
          "histogram2d": [
           {
            "colorbar": {
             "outlinewidth": 0,
             "ticks": ""
            },
            "colorscale": [
             [
              0,
              "#0d0887"
             ],
             [
              0.1111111111111111,
              "#46039f"
             ],
             [
              0.2222222222222222,
              "#7201a8"
             ],
             [
              0.3333333333333333,
              "#9c179e"
             ],
             [
              0.4444444444444444,
              "#bd3786"
             ],
             [
              0.5555555555555556,
              "#d8576b"
             ],
             [
              0.6666666666666666,
              "#ed7953"
             ],
             [
              0.7777777777777778,
              "#fb9f3a"
             ],
             [
              0.8888888888888888,
              "#fdca26"
             ],
             [
              1,
              "#f0f921"
             ]
            ],
            "type": "histogram2d"
           }
          ],
          "histogram2dcontour": [
           {
            "colorbar": {
             "outlinewidth": 0,
             "ticks": ""
            },
            "colorscale": [
             [
              0,
              "#0d0887"
             ],
             [
              0.1111111111111111,
              "#46039f"
             ],
             [
              0.2222222222222222,
              "#7201a8"
             ],
             [
              0.3333333333333333,
              "#9c179e"
             ],
             [
              0.4444444444444444,
              "#bd3786"
             ],
             [
              0.5555555555555556,
              "#d8576b"
             ],
             [
              0.6666666666666666,
              "#ed7953"
             ],
             [
              0.7777777777777778,
              "#fb9f3a"
             ],
             [
              0.8888888888888888,
              "#fdca26"
             ],
             [
              1,
              "#f0f921"
             ]
            ],
            "type": "histogram2dcontour"
           }
          ],
          "mesh3d": [
           {
            "colorbar": {
             "outlinewidth": 0,
             "ticks": ""
            },
            "type": "mesh3d"
           }
          ],
          "parcoords": [
           {
            "line": {
             "colorbar": {
              "outlinewidth": 0,
              "ticks": ""
             }
            },
            "type": "parcoords"
           }
          ],
          "pie": [
           {
            "automargin": true,
            "type": "pie"
           }
          ],
          "scatter": [
           {
            "fillpattern": {
             "fillmode": "overlay",
             "size": 10,
             "solidity": 0.2
            },
            "type": "scatter"
           }
          ],
          "scatter3d": [
           {
            "line": {
             "colorbar": {
              "outlinewidth": 0,
              "ticks": ""
             }
            },
            "marker": {
             "colorbar": {
              "outlinewidth": 0,
              "ticks": ""
             }
            },
            "type": "scatter3d"
           }
          ],
          "scattercarpet": [
           {
            "marker": {
             "colorbar": {
              "outlinewidth": 0,
              "ticks": ""
             }
            },
            "type": "scattercarpet"
           }
          ],
          "scattergeo": [
           {
            "marker": {
             "colorbar": {
              "outlinewidth": 0,
              "ticks": ""
             }
            },
            "type": "scattergeo"
           }
          ],
          "scattergl": [
           {
            "marker": {
             "colorbar": {
              "outlinewidth": 0,
              "ticks": ""
             }
            },
            "type": "scattergl"
           }
          ],
          "scattermapbox": [
           {
            "marker": {
             "colorbar": {
              "outlinewidth": 0,
              "ticks": ""
             }
            },
            "type": "scattermapbox"
           }
          ],
          "scatterpolar": [
           {
            "marker": {
             "colorbar": {
              "outlinewidth": 0,
              "ticks": ""
             }
            },
            "type": "scatterpolar"
           }
          ],
          "scatterpolargl": [
           {
            "marker": {
             "colorbar": {
              "outlinewidth": 0,
              "ticks": ""
             }
            },
            "type": "scatterpolargl"
           }
          ],
          "scatterternary": [
           {
            "marker": {
             "colorbar": {
              "outlinewidth": 0,
              "ticks": ""
             }
            },
            "type": "scatterternary"
           }
          ],
          "surface": [
           {
            "colorbar": {
             "outlinewidth": 0,
             "ticks": ""
            },
            "colorscale": [
             [
              0,
              "#0d0887"
             ],
             [
              0.1111111111111111,
              "#46039f"
             ],
             [
              0.2222222222222222,
              "#7201a8"
             ],
             [
              0.3333333333333333,
              "#9c179e"
             ],
             [
              0.4444444444444444,
              "#bd3786"
             ],
             [
              0.5555555555555556,
              "#d8576b"
             ],
             [
              0.6666666666666666,
              "#ed7953"
             ],
             [
              0.7777777777777778,
              "#fb9f3a"
             ],
             [
              0.8888888888888888,
              "#fdca26"
             ],
             [
              1,
              "#f0f921"
             ]
            ],
            "type": "surface"
           }
          ],
          "table": [
           {
            "cells": {
             "fill": {
              "color": "#EBF0F8"
             },
             "line": {
              "color": "white"
             }
            },
            "header": {
             "fill": {
              "color": "#C8D4E3"
             },
             "line": {
              "color": "white"
             }
            },
            "type": "table"
           }
          ]
         },
         "layout": {
          "annotationdefaults": {
           "arrowcolor": "#2a3f5f",
           "arrowhead": 0,
           "arrowwidth": 1
          },
          "autotypenumbers": "strict",
          "coloraxis": {
           "colorbar": {
            "outlinewidth": 0,
            "ticks": ""
           }
          },
          "colorscale": {
           "diverging": [
            [
             0,
             "#8e0152"
            ],
            [
             0.1,
             "#c51b7d"
            ],
            [
             0.2,
             "#de77ae"
            ],
            [
             0.3,
             "#f1b6da"
            ],
            [
             0.4,
             "#fde0ef"
            ],
            [
             0.5,
             "#f7f7f7"
            ],
            [
             0.6,
             "#e6f5d0"
            ],
            [
             0.7,
             "#b8e186"
            ],
            [
             0.8,
             "#7fbc41"
            ],
            [
             0.9,
             "#4d9221"
            ],
            [
             1,
             "#276419"
            ]
           ],
           "sequential": [
            [
             0,
             "#0d0887"
            ],
            [
             0.1111111111111111,
             "#46039f"
            ],
            [
             0.2222222222222222,
             "#7201a8"
            ],
            [
             0.3333333333333333,
             "#9c179e"
            ],
            [
             0.4444444444444444,
             "#bd3786"
            ],
            [
             0.5555555555555556,
             "#d8576b"
            ],
            [
             0.6666666666666666,
             "#ed7953"
            ],
            [
             0.7777777777777778,
             "#fb9f3a"
            ],
            [
             0.8888888888888888,
             "#fdca26"
            ],
            [
             1,
             "#f0f921"
            ]
           ],
           "sequentialminus": [
            [
             0,
             "#0d0887"
            ],
            [
             0.1111111111111111,
             "#46039f"
            ],
            [
             0.2222222222222222,
             "#7201a8"
            ],
            [
             0.3333333333333333,
             "#9c179e"
            ],
            [
             0.4444444444444444,
             "#bd3786"
            ],
            [
             0.5555555555555556,
             "#d8576b"
            ],
            [
             0.6666666666666666,
             "#ed7953"
            ],
            [
             0.7777777777777778,
             "#fb9f3a"
            ],
            [
             0.8888888888888888,
             "#fdca26"
            ],
            [
             1,
             "#f0f921"
            ]
           ]
          },
          "colorway": [
           "#636efa",
           "#EF553B",
           "#00cc96",
           "#ab63fa",
           "#FFA15A",
           "#19d3f3",
           "#FF6692",
           "#B6E880",
           "#FF97FF",
           "#FECB52"
          ],
          "font": {
           "color": "#2a3f5f"
          },
          "geo": {
           "bgcolor": "white",
           "lakecolor": "white",
           "landcolor": "#E5ECF6",
           "showlakes": true,
           "showland": true,
           "subunitcolor": "white"
          },
          "hoverlabel": {
           "align": "left"
          },
          "hovermode": "closest",
          "mapbox": {
           "style": "light"
          },
          "paper_bgcolor": "white",
          "plot_bgcolor": "#E5ECF6",
          "polar": {
           "angularaxis": {
            "gridcolor": "white",
            "linecolor": "white",
            "ticks": ""
           },
           "bgcolor": "#E5ECF6",
           "radialaxis": {
            "gridcolor": "white",
            "linecolor": "white",
            "ticks": ""
           }
          },
          "scene": {
           "xaxis": {
            "backgroundcolor": "#E5ECF6",
            "gridcolor": "white",
            "gridwidth": 2,
            "linecolor": "white",
            "showbackground": true,
            "ticks": "",
            "zerolinecolor": "white"
           },
           "yaxis": {
            "backgroundcolor": "#E5ECF6",
            "gridcolor": "white",
            "gridwidth": 2,
            "linecolor": "white",
            "showbackground": true,
            "ticks": "",
            "zerolinecolor": "white"
           },
           "zaxis": {
            "backgroundcolor": "#E5ECF6",
            "gridcolor": "white",
            "gridwidth": 2,
            "linecolor": "white",
            "showbackground": true,
            "ticks": "",
            "zerolinecolor": "white"
           }
          },
          "shapedefaults": {
           "line": {
            "color": "#2a3f5f"
           }
          },
          "ternary": {
           "aaxis": {
            "gridcolor": "white",
            "linecolor": "white",
            "ticks": ""
           },
           "baxis": {
            "gridcolor": "white",
            "linecolor": "white",
            "ticks": ""
           },
           "bgcolor": "#E5ECF6",
           "caxis": {
            "gridcolor": "white",
            "linecolor": "white",
            "ticks": ""
           }
          },
          "title": {
           "x": 0.05
          },
          "xaxis": {
           "automargin": true,
           "gridcolor": "white",
           "linecolor": "white",
           "ticks": "",
           "title": {
            "standoff": 15
           },
           "zerolinecolor": "white",
           "zerolinewidth": 2
          },
          "yaxis": {
           "automargin": true,
           "gridcolor": "white",
           "linecolor": "white",
           "ticks": "",
           "title": {
            "standoff": 15
           },
           "zerolinecolor": "white",
           "zerolinewidth": 2
          }
         }
        },
        "title": {
         "text": "Class Distribution"
        },
        "width": 800,
        "xaxis": {
         "title": {
          "text": "Attack Name"
         }
        },
        "yaxis": {
         "title": {
          "text": "Number of attacks"
         }
        }
       }
      },
      "text/html": [
       "<div>                            <div id=\"6559583f-b7f2-4785-aee4-7108a54d6597\" class=\"plotly-graph-div\" style=\"height:600px; width:800px;\"></div>            <script type=\"text/javascript\">                require([\"plotly\"], function(Plotly) {                    window.PLOTLYENV=window.PLOTLYENV || {};                                    if (document.getElementById(\"6559583f-b7f2-4785-aee4-7108a54d6597\")) {                    Plotly.newPlot(                        \"6559583f-b7f2-4785-aee4-7108a54d6597\",                        [{\"name\":\"Benign\",\"orientation\":\"v\",\"text\":[880060.0],\"textposition\":\"outside\",\"x\":[\"Benign\"],\"y\":[880060],\"type\":\"bar\"},{\"name\":\"Malicious\",\"orientation\":\"v\",\"text\":[255349.0],\"textposition\":\"outside\",\"x\":[\"Malicious\"],\"y\":[255349],\"type\":\"bar\"}],                        {\"height\":600,\"template\":{\"data\":{\"barpolar\":[{\"marker\":{\"line\":{\"color\":\"#E5ECF6\",\"width\":0.5},\"pattern\":{\"fillmode\":\"overlay\",\"size\":10,\"solidity\":0.2}},\"type\":\"barpolar\"}],\"bar\":[{\"error_x\":{\"color\":\"#2a3f5f\"},\"error_y\":{\"color\":\"#2a3f5f\"},\"marker\":{\"line\":{\"color\":\"#E5ECF6\",\"width\":0.5},\"pattern\":{\"fillmode\":\"overlay\",\"size\":10,\"solidity\":0.2}},\"type\":\"bar\"}],\"carpet\":[{\"aaxis\":{\"endlinecolor\":\"#2a3f5f\",\"gridcolor\":\"white\",\"linecolor\":\"white\",\"minorgridcolor\":\"white\",\"startlinecolor\":\"#2a3f5f\"},\"baxis\":{\"endlinecolor\":\"#2a3f5f\",\"gridcolor\":\"white\",\"linecolor\":\"white\",\"minorgridcolor\":\"white\",\"startlinecolor\":\"#2a3f5f\"},\"type\":\"carpet\"}],\"choropleth\":[{\"colorbar\":{\"outlinewidth\":0,\"ticks\":\"\"},\"type\":\"choropleth\"}],\"contourcarpet\":[{\"colorbar\":{\"outlinewidth\":0,\"ticks\":\"\"},\"type\":\"contourcarpet\"}],\"contour\":[{\"colorbar\":{\"outlinewidth\":0,\"ticks\":\"\"},\"colorscale\":[[0.0,\"#0d0887\"],[0.1111111111111111,\"#46039f\"],[0.2222222222222222,\"#7201a8\"],[0.3333333333333333,\"#9c179e\"],[0.4444444444444444,\"#bd3786\"],[0.5555555555555556,\"#d8576b\"],[0.6666666666666666,\"#ed7953\"],[0.7777777777777778,\"#fb9f3a\"],[0.8888888888888888,\"#fdca26\"],[1.0,\"#f0f921\"]],\"type\":\"contour\"}],\"heatmapgl\":[{\"colorbar\":{\"outlinewidth\":0,\"ticks\":\"\"},\"colorscale\":[[0.0,\"#0d0887\"],[0.1111111111111111,\"#46039f\"],[0.2222222222222222,\"#7201a8\"],[0.3333333333333333,\"#9c179e\"],[0.4444444444444444,\"#bd3786\"],[0.5555555555555556,\"#d8576b\"],[0.6666666666666666,\"#ed7953\"],[0.7777777777777778,\"#fb9f3a\"],[0.8888888888888888,\"#fdca26\"],[1.0,\"#f0f921\"]],\"type\":\"heatmapgl\"}],\"heatmap\":[{\"colorbar\":{\"outlinewidth\":0,\"ticks\":\"\"},\"colorscale\":[[0.0,\"#0d0887\"],[0.1111111111111111,\"#46039f\"],[0.2222222222222222,\"#7201a8\"],[0.3333333333333333,\"#9c179e\"],[0.4444444444444444,\"#bd3786\"],[0.5555555555555556,\"#d8576b\"],[0.6666666666666666,\"#ed7953\"],[0.7777777777777778,\"#fb9f3a\"],[0.8888888888888888,\"#fdca26\"],[1.0,\"#f0f921\"]],\"type\":\"heatmap\"}],\"histogram2dcontour\":[{\"colorbar\":{\"outlinewidth\":0,\"ticks\":\"\"},\"colorscale\":[[0.0,\"#0d0887\"],[0.1111111111111111,\"#46039f\"],[0.2222222222222222,\"#7201a8\"],[0.3333333333333333,\"#9c179e\"],[0.4444444444444444,\"#bd3786\"],[0.5555555555555556,\"#d8576b\"],[0.6666666666666666,\"#ed7953\"],[0.7777777777777778,\"#fb9f3a\"],[0.8888888888888888,\"#fdca26\"],[1.0,\"#f0f921\"]],\"type\":\"histogram2dcontour\"}],\"histogram2d\":[{\"colorbar\":{\"outlinewidth\":0,\"ticks\":\"\"},\"colorscale\":[[0.0,\"#0d0887\"],[0.1111111111111111,\"#46039f\"],[0.2222222222222222,\"#7201a8\"],[0.3333333333333333,\"#9c179e\"],[0.4444444444444444,\"#bd3786\"],[0.5555555555555556,\"#d8576b\"],[0.6666666666666666,\"#ed7953\"],[0.7777777777777778,\"#fb9f3a\"],[0.8888888888888888,\"#fdca26\"],[1.0,\"#f0f921\"]],\"type\":\"histogram2d\"}],\"histogram\":[{\"marker\":{\"pattern\":{\"fillmode\":\"overlay\",\"size\":10,\"solidity\":0.2}},\"type\":\"histogram\"}],\"mesh3d\":[{\"colorbar\":{\"outlinewidth\":0,\"ticks\":\"\"},\"type\":\"mesh3d\"}],\"parcoords\":[{\"line\":{\"colorbar\":{\"outlinewidth\":0,\"ticks\":\"\"}},\"type\":\"parcoords\"}],\"pie\":[{\"automargin\":true,\"type\":\"pie\"}],\"scatter3d\":[{\"line\":{\"colorbar\":{\"outlinewidth\":0,\"ticks\":\"\"}},\"marker\":{\"colorbar\":{\"outlinewidth\":0,\"ticks\":\"\"}},\"type\":\"scatter3d\"}],\"scattercarpet\":[{\"marker\":{\"colorbar\":{\"outlinewidth\":0,\"ticks\":\"\"}},\"type\":\"scattercarpet\"}],\"scattergeo\":[{\"marker\":{\"colorbar\":{\"outlinewidth\":0,\"ticks\":\"\"}},\"type\":\"scattergeo\"}],\"scattergl\":[{\"marker\":{\"colorbar\":{\"outlinewidth\":0,\"ticks\":\"\"}},\"type\":\"scattergl\"}],\"scattermapbox\":[{\"marker\":{\"colorbar\":{\"outlinewidth\":0,\"ticks\":\"\"}},\"type\":\"scattermapbox\"}],\"scatterpolargl\":[{\"marker\":{\"colorbar\":{\"outlinewidth\":0,\"ticks\":\"\"}},\"type\":\"scatterpolargl\"}],\"scatterpolar\":[{\"marker\":{\"colorbar\":{\"outlinewidth\":0,\"ticks\":\"\"}},\"type\":\"scatterpolar\"}],\"scatter\":[{\"fillpattern\":{\"fillmode\":\"overlay\",\"size\":10,\"solidity\":0.2},\"type\":\"scatter\"}],\"scatterternary\":[{\"marker\":{\"colorbar\":{\"outlinewidth\":0,\"ticks\":\"\"}},\"type\":\"scatterternary\"}],\"surface\":[{\"colorbar\":{\"outlinewidth\":0,\"ticks\":\"\"},\"colorscale\":[[0.0,\"#0d0887\"],[0.1111111111111111,\"#46039f\"],[0.2222222222222222,\"#7201a8\"],[0.3333333333333333,\"#9c179e\"],[0.4444444444444444,\"#bd3786\"],[0.5555555555555556,\"#d8576b\"],[0.6666666666666666,\"#ed7953\"],[0.7777777777777778,\"#fb9f3a\"],[0.8888888888888888,\"#fdca26\"],[1.0,\"#f0f921\"]],\"type\":\"surface\"}],\"table\":[{\"cells\":{\"fill\":{\"color\":\"#EBF0F8\"},\"line\":{\"color\":\"white\"}},\"header\":{\"fill\":{\"color\":\"#C8D4E3\"},\"line\":{\"color\":\"white\"}},\"type\":\"table\"}]},\"layout\":{\"annotationdefaults\":{\"arrowcolor\":\"#2a3f5f\",\"arrowhead\":0,\"arrowwidth\":1},\"autotypenumbers\":\"strict\",\"coloraxis\":{\"colorbar\":{\"outlinewidth\":0,\"ticks\":\"\"}},\"colorscale\":{\"diverging\":[[0,\"#8e0152\"],[0.1,\"#c51b7d\"],[0.2,\"#de77ae\"],[0.3,\"#f1b6da\"],[0.4,\"#fde0ef\"],[0.5,\"#f7f7f7\"],[0.6,\"#e6f5d0\"],[0.7,\"#b8e186\"],[0.8,\"#7fbc41\"],[0.9,\"#4d9221\"],[1,\"#276419\"]],\"sequential\":[[0.0,\"#0d0887\"],[0.1111111111111111,\"#46039f\"],[0.2222222222222222,\"#7201a8\"],[0.3333333333333333,\"#9c179e\"],[0.4444444444444444,\"#bd3786\"],[0.5555555555555556,\"#d8576b\"],[0.6666666666666666,\"#ed7953\"],[0.7777777777777778,\"#fb9f3a\"],[0.8888888888888888,\"#fdca26\"],[1.0,\"#f0f921\"]],\"sequentialminus\":[[0.0,\"#0d0887\"],[0.1111111111111111,\"#46039f\"],[0.2222222222222222,\"#7201a8\"],[0.3333333333333333,\"#9c179e\"],[0.4444444444444444,\"#bd3786\"],[0.5555555555555556,\"#d8576b\"],[0.6666666666666666,\"#ed7953\"],[0.7777777777777778,\"#fb9f3a\"],[0.8888888888888888,\"#fdca26\"],[1.0,\"#f0f921\"]]},\"colorway\":[\"#636efa\",\"#EF553B\",\"#00cc96\",\"#ab63fa\",\"#FFA15A\",\"#19d3f3\",\"#FF6692\",\"#B6E880\",\"#FF97FF\",\"#FECB52\"],\"font\":{\"color\":\"#2a3f5f\"},\"geo\":{\"bgcolor\":\"white\",\"lakecolor\":\"white\",\"landcolor\":\"#E5ECF6\",\"showlakes\":true,\"showland\":true,\"subunitcolor\":\"white\"},\"hoverlabel\":{\"align\":\"left\"},\"hovermode\":\"closest\",\"mapbox\":{\"style\":\"light\"},\"paper_bgcolor\":\"white\",\"plot_bgcolor\":\"#E5ECF6\",\"polar\":{\"angularaxis\":{\"gridcolor\":\"white\",\"linecolor\":\"white\",\"ticks\":\"\"},\"bgcolor\":\"#E5ECF6\",\"radialaxis\":{\"gridcolor\":\"white\",\"linecolor\":\"white\",\"ticks\":\"\"}},\"scene\":{\"xaxis\":{\"backgroundcolor\":\"#E5ECF6\",\"gridcolor\":\"white\",\"gridwidth\":2,\"linecolor\":\"white\",\"showbackground\":true,\"ticks\":\"\",\"zerolinecolor\":\"white\"},\"yaxis\":{\"backgroundcolor\":\"#E5ECF6\",\"gridcolor\":\"white\",\"gridwidth\":2,\"linecolor\":\"white\",\"showbackground\":true,\"ticks\":\"\",\"zerolinecolor\":\"white\"},\"zaxis\":{\"backgroundcolor\":\"#E5ECF6\",\"gridcolor\":\"white\",\"gridwidth\":2,\"linecolor\":\"white\",\"showbackground\":true,\"ticks\":\"\",\"zerolinecolor\":\"white\"}},\"shapedefaults\":{\"line\":{\"color\":\"#2a3f5f\"}},\"ternary\":{\"aaxis\":{\"gridcolor\":\"white\",\"linecolor\":\"white\",\"ticks\":\"\"},\"baxis\":{\"gridcolor\":\"white\",\"linecolor\":\"white\",\"ticks\":\"\"},\"bgcolor\":\"#E5ECF6\",\"caxis\":{\"gridcolor\":\"white\",\"linecolor\":\"white\",\"ticks\":\"\"}},\"title\":{\"x\":0.05},\"xaxis\":{\"automargin\":true,\"gridcolor\":\"white\",\"linecolor\":\"white\",\"ticks\":\"\",\"title\":{\"standoff\":15},\"zerolinecolor\":\"white\",\"zerolinewidth\":2},\"yaxis\":{\"automargin\":true,\"gridcolor\":\"white\",\"linecolor\":\"white\",\"ticks\":\"\",\"title\":{\"standoff\":15},\"zerolinecolor\":\"white\",\"zerolinewidth\":2}}},\"title\":{\"text\":\"Class Distribution\"},\"width\":800,\"xaxis\":{\"title\":{\"text\":\"Attack Name\"}},\"yaxis\":{\"title\":{\"text\":\"Number of attacks\"}}},                        {\"responsive\": true}                    ).then(function(){\n",
       "                            \n",
       "var gd = document.getElementById('6559583f-b7f2-4785-aee4-7108a54d6597');\n",
       "var x = new MutationObserver(function (mutations, observer) {{\n",
       "        var display = window.getComputedStyle(gd).display;\n",
       "        if (!display || display === 'none') {{\n",
       "            console.log([gd, 'removed!']);\n",
       "            Plotly.purge(gd);\n",
       "            observer.disconnect();\n",
       "        }}\n",
       "}});\n",
       "\n",
       "// Listen for the removal of the full notebook cells\n",
       "var notebookContainer = gd.closest('#notebook-container');\n",
       "if (notebookContainer) {{\n",
       "    x.observe(notebookContainer, {childList: true});\n",
       "}}\n",
       "\n",
       "// Listen for the clearing of the current output cell\n",
       "var outputEl = gd.closest('.output');\n",
       "if (outputEl) {{\n",
       "    x.observe(outputEl, {childList: true});\n",
       "}}\n",
       "\n",
       "                        })                };                });            </script>        </div>"
      ]
     },
     "metadata": {},
     "output_type": "display_data"
    }
   ],
   "source": [
    "import pandas as pd\n",
    "import numpy as np\n",
    "import matplotlib.pyplot as plt\n",
    "import joblib\n",
    "import sklearn\n",
    "from sklearn.preprocessing import MinMaxScaler\n",
    "from sklearn.ensemble import RandomForestClassifier\n",
    "from sklearn.model_selection import GridSearchCV, train_test_split\n",
    "from sklearn.metrics import accuracy_score, classification_report, confusion_matrix\n",
    "from sklearn.utils import class_weight\n",
    "\n",
    "RANDOM_STATE_SEED = 12\n",
    "\n",
    "from plotly.offline import init_notebook_mode, iplot, plot\n",
    "import plotly as py\n",
    "import plotly.express as px\n",
    "init_notebook_mode(connected=True)\n",
    "import plotly.graph_objs as go\n",
    "\n",
    "df = df_dataset\n",
    "fig = go.Figure(data=[\n",
    "    go.Bar(name='Benign', \n",
    "           y=df[\"Label\"].value_counts().values[0:1],\n",
    "           x=['Benign'],\n",
    "           text = df[\"Label\"].value_counts()[0:1],\n",
    "           orientation='v',\n",
    "           textposition='outside',),\n",
    "    go.Bar(name='Malicious', \n",
    "           y=df[\"Label\"].value_counts().values[1:2],\n",
    "           x=['Malicious'],\n",
    "           text = df[\"Label\"].value_counts()[1:2],\n",
    "           orientation='v',\n",
    "           textposition='outside',)\n",
    "])\n",
    "# Change the bar mode\n",
    "fig.update_layout(\n",
    "                  width=800,\n",
    "                  height=600,\n",
    "                  title=f'Class Distribution',\n",
    "                  yaxis_title='Number of attacks',\n",
    "                  xaxis_title='Attack Name',)\n",
    "iplot(fig)"
   ]
  },
  {
   "cell_type": "code",
   "execution_count": 74,
   "id": "a7a71e8c",
   "metadata": {},
   "outputs": [],
   "source": [
    "df1 = df[df[\"Label\"] == 0][:255349]\n",
    "df2 = df[df[\"Label\"] == 1][:255349]\n",
    "df_equal = pd.concat([ df1,df2], axis =0)"
   ]
  },
  {
   "cell_type": "code",
   "execution_count": 75,
   "id": "00f4deb7",
   "metadata": {},
   "outputs": [],
   "source": [
    "from sklearn.model_selection import RandomizedSearchCV\n",
    "from scipy.stats import randint"
   ]
  },
  {
   "cell_type": "code",
   "execution_count": 76,
   "id": "55003f82",
   "metadata": {},
   "outputs": [
    {
     "data": {
      "application/vnd.plotly.v1+json": {
       "config": {
        "linkText": "Export to plot.ly",
        "plotlyServerURL": "https://plot.ly",
        "showLink": false
       },
       "data": [
        {
         "name": "Benign",
         "orientation": "v",
         "text": [
          255349
         ],
         "textposition": "outside",
         "type": "bar",
         "x": [
          "Benign"
         ],
         "y": [
          255349
         ]
        },
        {
         "name": "Malicious",
         "orientation": "v",
         "text": [
          255349
         ],
         "textposition": "outside",
         "type": "bar",
         "x": [
          "Malicious"
         ],
         "y": [
          255349
         ]
        }
       ],
       "layout": {
        "height": 600,
        "template": {
         "data": {
          "bar": [
           {
            "error_x": {
             "color": "#2a3f5f"
            },
            "error_y": {
             "color": "#2a3f5f"
            },
            "marker": {
             "line": {
              "color": "#E5ECF6",
              "width": 0.5
             },
             "pattern": {
              "fillmode": "overlay",
              "size": 10,
              "solidity": 0.2
             }
            },
            "type": "bar"
           }
          ],
          "barpolar": [
           {
            "marker": {
             "line": {
              "color": "#E5ECF6",
              "width": 0.5
             },
             "pattern": {
              "fillmode": "overlay",
              "size": 10,
              "solidity": 0.2
             }
            },
            "type": "barpolar"
           }
          ],
          "carpet": [
           {
            "aaxis": {
             "endlinecolor": "#2a3f5f",
             "gridcolor": "white",
             "linecolor": "white",
             "minorgridcolor": "white",
             "startlinecolor": "#2a3f5f"
            },
            "baxis": {
             "endlinecolor": "#2a3f5f",
             "gridcolor": "white",
             "linecolor": "white",
             "minorgridcolor": "white",
             "startlinecolor": "#2a3f5f"
            },
            "type": "carpet"
           }
          ],
          "choropleth": [
           {
            "colorbar": {
             "outlinewidth": 0,
             "ticks": ""
            },
            "type": "choropleth"
           }
          ],
          "contour": [
           {
            "colorbar": {
             "outlinewidth": 0,
             "ticks": ""
            },
            "colorscale": [
             [
              0,
              "#0d0887"
             ],
             [
              0.1111111111111111,
              "#46039f"
             ],
             [
              0.2222222222222222,
              "#7201a8"
             ],
             [
              0.3333333333333333,
              "#9c179e"
             ],
             [
              0.4444444444444444,
              "#bd3786"
             ],
             [
              0.5555555555555556,
              "#d8576b"
             ],
             [
              0.6666666666666666,
              "#ed7953"
             ],
             [
              0.7777777777777778,
              "#fb9f3a"
             ],
             [
              0.8888888888888888,
              "#fdca26"
             ],
             [
              1,
              "#f0f921"
             ]
            ],
            "type": "contour"
           }
          ],
          "contourcarpet": [
           {
            "colorbar": {
             "outlinewidth": 0,
             "ticks": ""
            },
            "type": "contourcarpet"
           }
          ],
          "heatmap": [
           {
            "colorbar": {
             "outlinewidth": 0,
             "ticks": ""
            },
            "colorscale": [
             [
              0,
              "#0d0887"
             ],
             [
              0.1111111111111111,
              "#46039f"
             ],
             [
              0.2222222222222222,
              "#7201a8"
             ],
             [
              0.3333333333333333,
              "#9c179e"
             ],
             [
              0.4444444444444444,
              "#bd3786"
             ],
             [
              0.5555555555555556,
              "#d8576b"
             ],
             [
              0.6666666666666666,
              "#ed7953"
             ],
             [
              0.7777777777777778,
              "#fb9f3a"
             ],
             [
              0.8888888888888888,
              "#fdca26"
             ],
             [
              1,
              "#f0f921"
             ]
            ],
            "type": "heatmap"
           }
          ],
          "heatmapgl": [
           {
            "colorbar": {
             "outlinewidth": 0,
             "ticks": ""
            },
            "colorscale": [
             [
              0,
              "#0d0887"
             ],
             [
              0.1111111111111111,
              "#46039f"
             ],
             [
              0.2222222222222222,
              "#7201a8"
             ],
             [
              0.3333333333333333,
              "#9c179e"
             ],
             [
              0.4444444444444444,
              "#bd3786"
             ],
             [
              0.5555555555555556,
              "#d8576b"
             ],
             [
              0.6666666666666666,
              "#ed7953"
             ],
             [
              0.7777777777777778,
              "#fb9f3a"
             ],
             [
              0.8888888888888888,
              "#fdca26"
             ],
             [
              1,
              "#f0f921"
             ]
            ],
            "type": "heatmapgl"
           }
          ],
          "histogram": [
           {
            "marker": {
             "pattern": {
              "fillmode": "overlay",
              "size": 10,
              "solidity": 0.2
             }
            },
            "type": "histogram"
           }
          ],
          "histogram2d": [
           {
            "colorbar": {
             "outlinewidth": 0,
             "ticks": ""
            },
            "colorscale": [
             [
              0,
              "#0d0887"
             ],
             [
              0.1111111111111111,
              "#46039f"
             ],
             [
              0.2222222222222222,
              "#7201a8"
             ],
             [
              0.3333333333333333,
              "#9c179e"
             ],
             [
              0.4444444444444444,
              "#bd3786"
             ],
             [
              0.5555555555555556,
              "#d8576b"
             ],
             [
              0.6666666666666666,
              "#ed7953"
             ],
             [
              0.7777777777777778,
              "#fb9f3a"
             ],
             [
              0.8888888888888888,
              "#fdca26"
             ],
             [
              1,
              "#f0f921"
             ]
            ],
            "type": "histogram2d"
           }
          ],
          "histogram2dcontour": [
           {
            "colorbar": {
             "outlinewidth": 0,
             "ticks": ""
            },
            "colorscale": [
             [
              0,
              "#0d0887"
             ],
             [
              0.1111111111111111,
              "#46039f"
             ],
             [
              0.2222222222222222,
              "#7201a8"
             ],
             [
              0.3333333333333333,
              "#9c179e"
             ],
             [
              0.4444444444444444,
              "#bd3786"
             ],
             [
              0.5555555555555556,
              "#d8576b"
             ],
             [
              0.6666666666666666,
              "#ed7953"
             ],
             [
              0.7777777777777778,
              "#fb9f3a"
             ],
             [
              0.8888888888888888,
              "#fdca26"
             ],
             [
              1,
              "#f0f921"
             ]
            ],
            "type": "histogram2dcontour"
           }
          ],
          "mesh3d": [
           {
            "colorbar": {
             "outlinewidth": 0,
             "ticks": ""
            },
            "type": "mesh3d"
           }
          ],
          "parcoords": [
           {
            "line": {
             "colorbar": {
              "outlinewidth": 0,
              "ticks": ""
             }
            },
            "type": "parcoords"
           }
          ],
          "pie": [
           {
            "automargin": true,
            "type": "pie"
           }
          ],
          "scatter": [
           {
            "fillpattern": {
             "fillmode": "overlay",
             "size": 10,
             "solidity": 0.2
            },
            "type": "scatter"
           }
          ],
          "scatter3d": [
           {
            "line": {
             "colorbar": {
              "outlinewidth": 0,
              "ticks": ""
             }
            },
            "marker": {
             "colorbar": {
              "outlinewidth": 0,
              "ticks": ""
             }
            },
            "type": "scatter3d"
           }
          ],
          "scattercarpet": [
           {
            "marker": {
             "colorbar": {
              "outlinewidth": 0,
              "ticks": ""
             }
            },
            "type": "scattercarpet"
           }
          ],
          "scattergeo": [
           {
            "marker": {
             "colorbar": {
              "outlinewidth": 0,
              "ticks": ""
             }
            },
            "type": "scattergeo"
           }
          ],
          "scattergl": [
           {
            "marker": {
             "colorbar": {
              "outlinewidth": 0,
              "ticks": ""
             }
            },
            "type": "scattergl"
           }
          ],
          "scattermapbox": [
           {
            "marker": {
             "colorbar": {
              "outlinewidth": 0,
              "ticks": ""
             }
            },
            "type": "scattermapbox"
           }
          ],
          "scatterpolar": [
           {
            "marker": {
             "colorbar": {
              "outlinewidth": 0,
              "ticks": ""
             }
            },
            "type": "scatterpolar"
           }
          ],
          "scatterpolargl": [
           {
            "marker": {
             "colorbar": {
              "outlinewidth": 0,
              "ticks": ""
             }
            },
            "type": "scatterpolargl"
           }
          ],
          "scatterternary": [
           {
            "marker": {
             "colorbar": {
              "outlinewidth": 0,
              "ticks": ""
             }
            },
            "type": "scatterternary"
           }
          ],
          "surface": [
           {
            "colorbar": {
             "outlinewidth": 0,
             "ticks": ""
            },
            "colorscale": [
             [
              0,
              "#0d0887"
             ],
             [
              0.1111111111111111,
              "#46039f"
             ],
             [
              0.2222222222222222,
              "#7201a8"
             ],
             [
              0.3333333333333333,
              "#9c179e"
             ],
             [
              0.4444444444444444,
              "#bd3786"
             ],
             [
              0.5555555555555556,
              "#d8576b"
             ],
             [
              0.6666666666666666,
              "#ed7953"
             ],
             [
              0.7777777777777778,
              "#fb9f3a"
             ],
             [
              0.8888888888888888,
              "#fdca26"
             ],
             [
              1,
              "#f0f921"
             ]
            ],
            "type": "surface"
           }
          ],
          "table": [
           {
            "cells": {
             "fill": {
              "color": "#EBF0F8"
             },
             "line": {
              "color": "white"
             }
            },
            "header": {
             "fill": {
              "color": "#C8D4E3"
             },
             "line": {
              "color": "white"
             }
            },
            "type": "table"
           }
          ]
         },
         "layout": {
          "annotationdefaults": {
           "arrowcolor": "#2a3f5f",
           "arrowhead": 0,
           "arrowwidth": 1
          },
          "autotypenumbers": "strict",
          "coloraxis": {
           "colorbar": {
            "outlinewidth": 0,
            "ticks": ""
           }
          },
          "colorscale": {
           "diverging": [
            [
             0,
             "#8e0152"
            ],
            [
             0.1,
             "#c51b7d"
            ],
            [
             0.2,
             "#de77ae"
            ],
            [
             0.3,
             "#f1b6da"
            ],
            [
             0.4,
             "#fde0ef"
            ],
            [
             0.5,
             "#f7f7f7"
            ],
            [
             0.6,
             "#e6f5d0"
            ],
            [
             0.7,
             "#b8e186"
            ],
            [
             0.8,
             "#7fbc41"
            ],
            [
             0.9,
             "#4d9221"
            ],
            [
             1,
             "#276419"
            ]
           ],
           "sequential": [
            [
             0,
             "#0d0887"
            ],
            [
             0.1111111111111111,
             "#46039f"
            ],
            [
             0.2222222222222222,
             "#7201a8"
            ],
            [
             0.3333333333333333,
             "#9c179e"
            ],
            [
             0.4444444444444444,
             "#bd3786"
            ],
            [
             0.5555555555555556,
             "#d8576b"
            ],
            [
             0.6666666666666666,
             "#ed7953"
            ],
            [
             0.7777777777777778,
             "#fb9f3a"
            ],
            [
             0.8888888888888888,
             "#fdca26"
            ],
            [
             1,
             "#f0f921"
            ]
           ],
           "sequentialminus": [
            [
             0,
             "#0d0887"
            ],
            [
             0.1111111111111111,
             "#46039f"
            ],
            [
             0.2222222222222222,
             "#7201a8"
            ],
            [
             0.3333333333333333,
             "#9c179e"
            ],
            [
             0.4444444444444444,
             "#bd3786"
            ],
            [
             0.5555555555555556,
             "#d8576b"
            ],
            [
             0.6666666666666666,
             "#ed7953"
            ],
            [
             0.7777777777777778,
             "#fb9f3a"
            ],
            [
             0.8888888888888888,
             "#fdca26"
            ],
            [
             1,
             "#f0f921"
            ]
           ]
          },
          "colorway": [
           "#636efa",
           "#EF553B",
           "#00cc96",
           "#ab63fa",
           "#FFA15A",
           "#19d3f3",
           "#FF6692",
           "#B6E880",
           "#FF97FF",
           "#FECB52"
          ],
          "font": {
           "color": "#2a3f5f"
          },
          "geo": {
           "bgcolor": "white",
           "lakecolor": "white",
           "landcolor": "#E5ECF6",
           "showlakes": true,
           "showland": true,
           "subunitcolor": "white"
          },
          "hoverlabel": {
           "align": "left"
          },
          "hovermode": "closest",
          "mapbox": {
           "style": "light"
          },
          "paper_bgcolor": "white",
          "plot_bgcolor": "#E5ECF6",
          "polar": {
           "angularaxis": {
            "gridcolor": "white",
            "linecolor": "white",
            "ticks": ""
           },
           "bgcolor": "#E5ECF6",
           "radialaxis": {
            "gridcolor": "white",
            "linecolor": "white",
            "ticks": ""
           }
          },
          "scene": {
           "xaxis": {
            "backgroundcolor": "#E5ECF6",
            "gridcolor": "white",
            "gridwidth": 2,
            "linecolor": "white",
            "showbackground": true,
            "ticks": "",
            "zerolinecolor": "white"
           },
           "yaxis": {
            "backgroundcolor": "#E5ECF6",
            "gridcolor": "white",
            "gridwidth": 2,
            "linecolor": "white",
            "showbackground": true,
            "ticks": "",
            "zerolinecolor": "white"
           },
           "zaxis": {
            "backgroundcolor": "#E5ECF6",
            "gridcolor": "white",
            "gridwidth": 2,
            "linecolor": "white",
            "showbackground": true,
            "ticks": "",
            "zerolinecolor": "white"
           }
          },
          "shapedefaults": {
           "line": {
            "color": "#2a3f5f"
           }
          },
          "ternary": {
           "aaxis": {
            "gridcolor": "white",
            "linecolor": "white",
            "ticks": ""
           },
           "baxis": {
            "gridcolor": "white",
            "linecolor": "white",
            "ticks": ""
           },
           "bgcolor": "#E5ECF6",
           "caxis": {
            "gridcolor": "white",
            "linecolor": "white",
            "ticks": ""
           }
          },
          "title": {
           "x": 0.05
          },
          "xaxis": {
           "automargin": true,
           "gridcolor": "white",
           "linecolor": "white",
           "ticks": "",
           "title": {
            "standoff": 15
           },
           "zerolinecolor": "white",
           "zerolinewidth": 2
          },
          "yaxis": {
           "automargin": true,
           "gridcolor": "white",
           "linecolor": "white",
           "ticks": "",
           "title": {
            "standoff": 15
           },
           "zerolinecolor": "white",
           "zerolinewidth": 2
          }
         }
        },
        "title": {
         "text": "Class Distribution"
        },
        "width": 800,
        "xaxis": {
         "title": {
          "text": "Attack Name"
         }
        },
        "yaxis": {
         "title": {
          "text": "Number of attacks"
         }
        }
       }
      },
      "text/html": [
       "<div>                            <div id=\"72dcbbcf-18a2-47da-b9b5-11e67b6541bf\" class=\"plotly-graph-div\" style=\"height:600px; width:800px;\"></div>            <script type=\"text/javascript\">                require([\"plotly\"], function(Plotly) {                    window.PLOTLYENV=window.PLOTLYENV || {};                                    if (document.getElementById(\"72dcbbcf-18a2-47da-b9b5-11e67b6541bf\")) {                    Plotly.newPlot(                        \"72dcbbcf-18a2-47da-b9b5-11e67b6541bf\",                        [{\"name\":\"Benign\",\"orientation\":\"v\",\"text\":[255349.0],\"textposition\":\"outside\",\"x\":[\"Benign\"],\"y\":[255349],\"type\":\"bar\"},{\"name\":\"Malicious\",\"orientation\":\"v\",\"text\":[255349.0],\"textposition\":\"outside\",\"x\":[\"Malicious\"],\"y\":[255349],\"type\":\"bar\"}],                        {\"height\":600,\"template\":{\"data\":{\"barpolar\":[{\"marker\":{\"line\":{\"color\":\"#E5ECF6\",\"width\":0.5},\"pattern\":{\"fillmode\":\"overlay\",\"size\":10,\"solidity\":0.2}},\"type\":\"barpolar\"}],\"bar\":[{\"error_x\":{\"color\":\"#2a3f5f\"},\"error_y\":{\"color\":\"#2a3f5f\"},\"marker\":{\"line\":{\"color\":\"#E5ECF6\",\"width\":0.5},\"pattern\":{\"fillmode\":\"overlay\",\"size\":10,\"solidity\":0.2}},\"type\":\"bar\"}],\"carpet\":[{\"aaxis\":{\"endlinecolor\":\"#2a3f5f\",\"gridcolor\":\"white\",\"linecolor\":\"white\",\"minorgridcolor\":\"white\",\"startlinecolor\":\"#2a3f5f\"},\"baxis\":{\"endlinecolor\":\"#2a3f5f\",\"gridcolor\":\"white\",\"linecolor\":\"white\",\"minorgridcolor\":\"white\",\"startlinecolor\":\"#2a3f5f\"},\"type\":\"carpet\"}],\"choropleth\":[{\"colorbar\":{\"outlinewidth\":0,\"ticks\":\"\"},\"type\":\"choropleth\"}],\"contourcarpet\":[{\"colorbar\":{\"outlinewidth\":0,\"ticks\":\"\"},\"type\":\"contourcarpet\"}],\"contour\":[{\"colorbar\":{\"outlinewidth\":0,\"ticks\":\"\"},\"colorscale\":[[0.0,\"#0d0887\"],[0.1111111111111111,\"#46039f\"],[0.2222222222222222,\"#7201a8\"],[0.3333333333333333,\"#9c179e\"],[0.4444444444444444,\"#bd3786\"],[0.5555555555555556,\"#d8576b\"],[0.6666666666666666,\"#ed7953\"],[0.7777777777777778,\"#fb9f3a\"],[0.8888888888888888,\"#fdca26\"],[1.0,\"#f0f921\"]],\"type\":\"contour\"}],\"heatmapgl\":[{\"colorbar\":{\"outlinewidth\":0,\"ticks\":\"\"},\"colorscale\":[[0.0,\"#0d0887\"],[0.1111111111111111,\"#46039f\"],[0.2222222222222222,\"#7201a8\"],[0.3333333333333333,\"#9c179e\"],[0.4444444444444444,\"#bd3786\"],[0.5555555555555556,\"#d8576b\"],[0.6666666666666666,\"#ed7953\"],[0.7777777777777778,\"#fb9f3a\"],[0.8888888888888888,\"#fdca26\"],[1.0,\"#f0f921\"]],\"type\":\"heatmapgl\"}],\"heatmap\":[{\"colorbar\":{\"outlinewidth\":0,\"ticks\":\"\"},\"colorscale\":[[0.0,\"#0d0887\"],[0.1111111111111111,\"#46039f\"],[0.2222222222222222,\"#7201a8\"],[0.3333333333333333,\"#9c179e\"],[0.4444444444444444,\"#bd3786\"],[0.5555555555555556,\"#d8576b\"],[0.6666666666666666,\"#ed7953\"],[0.7777777777777778,\"#fb9f3a\"],[0.8888888888888888,\"#fdca26\"],[1.0,\"#f0f921\"]],\"type\":\"heatmap\"}],\"histogram2dcontour\":[{\"colorbar\":{\"outlinewidth\":0,\"ticks\":\"\"},\"colorscale\":[[0.0,\"#0d0887\"],[0.1111111111111111,\"#46039f\"],[0.2222222222222222,\"#7201a8\"],[0.3333333333333333,\"#9c179e\"],[0.4444444444444444,\"#bd3786\"],[0.5555555555555556,\"#d8576b\"],[0.6666666666666666,\"#ed7953\"],[0.7777777777777778,\"#fb9f3a\"],[0.8888888888888888,\"#fdca26\"],[1.0,\"#f0f921\"]],\"type\":\"histogram2dcontour\"}],\"histogram2d\":[{\"colorbar\":{\"outlinewidth\":0,\"ticks\":\"\"},\"colorscale\":[[0.0,\"#0d0887\"],[0.1111111111111111,\"#46039f\"],[0.2222222222222222,\"#7201a8\"],[0.3333333333333333,\"#9c179e\"],[0.4444444444444444,\"#bd3786\"],[0.5555555555555556,\"#d8576b\"],[0.6666666666666666,\"#ed7953\"],[0.7777777777777778,\"#fb9f3a\"],[0.8888888888888888,\"#fdca26\"],[1.0,\"#f0f921\"]],\"type\":\"histogram2d\"}],\"histogram\":[{\"marker\":{\"pattern\":{\"fillmode\":\"overlay\",\"size\":10,\"solidity\":0.2}},\"type\":\"histogram\"}],\"mesh3d\":[{\"colorbar\":{\"outlinewidth\":0,\"ticks\":\"\"},\"type\":\"mesh3d\"}],\"parcoords\":[{\"line\":{\"colorbar\":{\"outlinewidth\":0,\"ticks\":\"\"}},\"type\":\"parcoords\"}],\"pie\":[{\"automargin\":true,\"type\":\"pie\"}],\"scatter3d\":[{\"line\":{\"colorbar\":{\"outlinewidth\":0,\"ticks\":\"\"}},\"marker\":{\"colorbar\":{\"outlinewidth\":0,\"ticks\":\"\"}},\"type\":\"scatter3d\"}],\"scattercarpet\":[{\"marker\":{\"colorbar\":{\"outlinewidth\":0,\"ticks\":\"\"}},\"type\":\"scattercarpet\"}],\"scattergeo\":[{\"marker\":{\"colorbar\":{\"outlinewidth\":0,\"ticks\":\"\"}},\"type\":\"scattergeo\"}],\"scattergl\":[{\"marker\":{\"colorbar\":{\"outlinewidth\":0,\"ticks\":\"\"}},\"type\":\"scattergl\"}],\"scattermapbox\":[{\"marker\":{\"colorbar\":{\"outlinewidth\":0,\"ticks\":\"\"}},\"type\":\"scattermapbox\"}],\"scatterpolargl\":[{\"marker\":{\"colorbar\":{\"outlinewidth\":0,\"ticks\":\"\"}},\"type\":\"scatterpolargl\"}],\"scatterpolar\":[{\"marker\":{\"colorbar\":{\"outlinewidth\":0,\"ticks\":\"\"}},\"type\":\"scatterpolar\"}],\"scatter\":[{\"fillpattern\":{\"fillmode\":\"overlay\",\"size\":10,\"solidity\":0.2},\"type\":\"scatter\"}],\"scatterternary\":[{\"marker\":{\"colorbar\":{\"outlinewidth\":0,\"ticks\":\"\"}},\"type\":\"scatterternary\"}],\"surface\":[{\"colorbar\":{\"outlinewidth\":0,\"ticks\":\"\"},\"colorscale\":[[0.0,\"#0d0887\"],[0.1111111111111111,\"#46039f\"],[0.2222222222222222,\"#7201a8\"],[0.3333333333333333,\"#9c179e\"],[0.4444444444444444,\"#bd3786\"],[0.5555555555555556,\"#d8576b\"],[0.6666666666666666,\"#ed7953\"],[0.7777777777777778,\"#fb9f3a\"],[0.8888888888888888,\"#fdca26\"],[1.0,\"#f0f921\"]],\"type\":\"surface\"}],\"table\":[{\"cells\":{\"fill\":{\"color\":\"#EBF0F8\"},\"line\":{\"color\":\"white\"}},\"header\":{\"fill\":{\"color\":\"#C8D4E3\"},\"line\":{\"color\":\"white\"}},\"type\":\"table\"}]},\"layout\":{\"annotationdefaults\":{\"arrowcolor\":\"#2a3f5f\",\"arrowhead\":0,\"arrowwidth\":1},\"autotypenumbers\":\"strict\",\"coloraxis\":{\"colorbar\":{\"outlinewidth\":0,\"ticks\":\"\"}},\"colorscale\":{\"diverging\":[[0,\"#8e0152\"],[0.1,\"#c51b7d\"],[0.2,\"#de77ae\"],[0.3,\"#f1b6da\"],[0.4,\"#fde0ef\"],[0.5,\"#f7f7f7\"],[0.6,\"#e6f5d0\"],[0.7,\"#b8e186\"],[0.8,\"#7fbc41\"],[0.9,\"#4d9221\"],[1,\"#276419\"]],\"sequential\":[[0.0,\"#0d0887\"],[0.1111111111111111,\"#46039f\"],[0.2222222222222222,\"#7201a8\"],[0.3333333333333333,\"#9c179e\"],[0.4444444444444444,\"#bd3786\"],[0.5555555555555556,\"#d8576b\"],[0.6666666666666666,\"#ed7953\"],[0.7777777777777778,\"#fb9f3a\"],[0.8888888888888888,\"#fdca26\"],[1.0,\"#f0f921\"]],\"sequentialminus\":[[0.0,\"#0d0887\"],[0.1111111111111111,\"#46039f\"],[0.2222222222222222,\"#7201a8\"],[0.3333333333333333,\"#9c179e\"],[0.4444444444444444,\"#bd3786\"],[0.5555555555555556,\"#d8576b\"],[0.6666666666666666,\"#ed7953\"],[0.7777777777777778,\"#fb9f3a\"],[0.8888888888888888,\"#fdca26\"],[1.0,\"#f0f921\"]]},\"colorway\":[\"#636efa\",\"#EF553B\",\"#00cc96\",\"#ab63fa\",\"#FFA15A\",\"#19d3f3\",\"#FF6692\",\"#B6E880\",\"#FF97FF\",\"#FECB52\"],\"font\":{\"color\":\"#2a3f5f\"},\"geo\":{\"bgcolor\":\"white\",\"lakecolor\":\"white\",\"landcolor\":\"#E5ECF6\",\"showlakes\":true,\"showland\":true,\"subunitcolor\":\"white\"},\"hoverlabel\":{\"align\":\"left\"},\"hovermode\":\"closest\",\"mapbox\":{\"style\":\"light\"},\"paper_bgcolor\":\"white\",\"plot_bgcolor\":\"#E5ECF6\",\"polar\":{\"angularaxis\":{\"gridcolor\":\"white\",\"linecolor\":\"white\",\"ticks\":\"\"},\"bgcolor\":\"#E5ECF6\",\"radialaxis\":{\"gridcolor\":\"white\",\"linecolor\":\"white\",\"ticks\":\"\"}},\"scene\":{\"xaxis\":{\"backgroundcolor\":\"#E5ECF6\",\"gridcolor\":\"white\",\"gridwidth\":2,\"linecolor\":\"white\",\"showbackground\":true,\"ticks\":\"\",\"zerolinecolor\":\"white\"},\"yaxis\":{\"backgroundcolor\":\"#E5ECF6\",\"gridcolor\":\"white\",\"gridwidth\":2,\"linecolor\":\"white\",\"showbackground\":true,\"ticks\":\"\",\"zerolinecolor\":\"white\"},\"zaxis\":{\"backgroundcolor\":\"#E5ECF6\",\"gridcolor\":\"white\",\"gridwidth\":2,\"linecolor\":\"white\",\"showbackground\":true,\"ticks\":\"\",\"zerolinecolor\":\"white\"}},\"shapedefaults\":{\"line\":{\"color\":\"#2a3f5f\"}},\"ternary\":{\"aaxis\":{\"gridcolor\":\"white\",\"linecolor\":\"white\",\"ticks\":\"\"},\"baxis\":{\"gridcolor\":\"white\",\"linecolor\":\"white\",\"ticks\":\"\"},\"bgcolor\":\"#E5ECF6\",\"caxis\":{\"gridcolor\":\"white\",\"linecolor\":\"white\",\"ticks\":\"\"}},\"title\":{\"x\":0.05},\"xaxis\":{\"automargin\":true,\"gridcolor\":\"white\",\"linecolor\":\"white\",\"ticks\":\"\",\"title\":{\"standoff\":15},\"zerolinecolor\":\"white\",\"zerolinewidth\":2},\"yaxis\":{\"automargin\":true,\"gridcolor\":\"white\",\"linecolor\":\"white\",\"ticks\":\"\",\"title\":{\"standoff\":15},\"zerolinecolor\":\"white\",\"zerolinewidth\":2}}},\"title\":{\"text\":\"Class Distribution\"},\"width\":800,\"xaxis\":{\"title\":{\"text\":\"Attack Name\"}},\"yaxis\":{\"title\":{\"text\":\"Number of attacks\"}}},                        {\"responsive\": true}                    ).then(function(){\n",
       "                            \n",
       "var gd = document.getElementById('72dcbbcf-18a2-47da-b9b5-11e67b6541bf');\n",
       "var x = new MutationObserver(function (mutations, observer) {{\n",
       "        var display = window.getComputedStyle(gd).display;\n",
       "        if (!display || display === 'none') {{\n",
       "            console.log([gd, 'removed!']);\n",
       "            Plotly.purge(gd);\n",
       "            observer.disconnect();\n",
       "        }}\n",
       "}});\n",
       "\n",
       "// Listen for the removal of the full notebook cells\n",
       "var notebookContainer = gd.closest('#notebook-container');\n",
       "if (notebookContainer) {{\n",
       "    x.observe(notebookContainer, {childList: true});\n",
       "}}\n",
       "\n",
       "// Listen for the clearing of the current output cell\n",
       "var outputEl = gd.closest('.output');\n",
       "if (outputEl) {{\n",
       "    x.observe(outputEl, {childList: true});\n",
       "}}\n",
       "\n",
       "                        })                };                });            </script>        </div>"
      ]
     },
     "metadata": {},
     "output_type": "display_data"
    }
   ],
   "source": [
    "fig = go.Figure(data=[\n",
    "    go.Bar(name='Benign', \n",
    "           y=df_equal[\"Label\"].value_counts().values[0:1],\n",
    "           x=['Benign'],\n",
    "           text = df_equal[\"Label\"].value_counts()[0:1],\n",
    "           orientation='v',\n",
    "           textposition='outside',),\n",
    "    go.Bar(name='Malicious', \n",
    "           y=df_equal[\"Label\"].value_counts().values[1:2],\n",
    "           x=['Malicious'],\n",
    "           text = df_equal[\"Label\"].value_counts()[1:2],\n",
    "           orientation='v',\n",
    "           textposition='outside',)\n",
    "])\n",
    "# Change the bar mode\n",
    "fig.update_layout(\n",
    "                  width=800,\n",
    "                  height=600,\n",
    "                  title=f'Class Distribution',\n",
    "                  yaxis_title='Number of attacks',\n",
    "                  xaxis_title='Attack Name',)\n",
    "iplot(fig)"
   ]
  },
  {
   "cell_type": "markdown",
   "id": "88767548",
   "metadata": {},
   "source": [
    "# Creating train/test split"
   ]
  },
  {
   "cell_type": "code",
   "execution_count": 77,
   "id": "f5dc74c3",
   "metadata": {},
   "outputs": [],
   "source": [
    "train, test = train_test_split(df_equal, test_size=0.2)"
   ]
  },
  {
   "cell_type": "code",
   "execution_count": 78,
   "id": "a6b328cb",
   "metadata": {},
   "outputs": [
    {
     "data": {
      "text/plain": [
       "Index(['Unnamed: 0', 'Dst Port', 'Protocol', 'Flow Duration', 'Tot Fwd Pkts',\n",
       "       'Tot Bwd Pkts', 'TotLen Fwd Pkts', 'TotLen Bwd Pkts', 'Fwd Pkt Len Max',\n",
       "       'Fwd Pkt Len Min', 'Fwd Pkt Len Mean', 'Fwd Pkt Len Std',\n",
       "       'Bwd Pkt Len Max', 'Bwd Pkt Len Min', 'Bwd Pkt Len Mean',\n",
       "       'Bwd Pkt Len Std', 'Flow Byts/s', 'Flow Pkts/s', 'Flow IAT Mean',\n",
       "       'Flow IAT Std', 'Flow IAT Max', 'Flow IAT Min', 'Fwd IAT Tot',\n",
       "       'Fwd IAT Mean', 'Fwd IAT Std', 'Fwd IAT Max', 'Fwd IAT Min',\n",
       "       'Bwd IAT Tot', 'Bwd IAT Mean', 'Bwd IAT Std', 'Bwd IAT Max',\n",
       "       'Bwd IAT Min', 'Fwd PSH Flags', 'Bwd PSH Flags', 'Fwd URG Flags',\n",
       "       'Bwd URG Flags', 'Fwd Header Len', 'Bwd Header Len', 'Fwd Pkts/s',\n",
       "       'Bwd Pkts/s', 'Pkt Len Min', 'Pkt Len Max', 'Pkt Len Mean',\n",
       "       'Pkt Len Std', 'Pkt Len Var', 'FIN Flag Cnt', 'SYN Flag Cnt',\n",
       "       'RST Flag Cnt', 'PSH Flag Cnt', 'ACK Flag Cnt', 'URG Flag Cnt',\n",
       "       'CWE Flag Count', 'ECE Flag Cnt', 'Pkt Size Avg', 'Fwd Seg Size Avg',\n",
       "       'Bwd Seg Size Avg', 'Fwd Byts/b Avg', 'Fwd Pkts/b Avg',\n",
       "       'Fwd Blk Rate Avg', 'Bwd Byts/b Avg', 'Bwd Pkts/b Avg',\n",
       "       'Bwd Blk Rate Avg', 'Subflow Fwd Pkts', 'Subflow Fwd Byts',\n",
       "       'Subflow Bwd Pkts', 'Subflow Bwd Byts', 'Init Fwd Win Byts',\n",
       "       'Init Bwd Win Byts', 'Fwd Act Data Pkts', 'Fwd Seg Size Min',\n",
       "       'Active Mean', 'Active Std', 'Active Max', 'Active Min', 'Idle Mean',\n",
       "       'Idle Std', 'Idle Max', 'Idle Min', 'Label'],\n",
       "      dtype='object')"
      ]
     },
     "execution_count": 78,
     "metadata": {},
     "output_type": "execute_result"
    }
   ],
   "source": [
    "# display columns\n",
    "train.columns"
   ]
  },
  {
   "cell_type": "code",
   "execution_count": 79,
   "id": "b8b35a46",
   "metadata": {},
   "outputs": [
    {
     "name": "stdout",
     "output_type": "stream",
     "text": [
      "<class 'pandas.core.frame.DataFrame'>\n",
      "Int64Index: 408558 entries, 260100 to 989507\n",
      "Data columns (total 79 columns):\n",
      " #   Column             Non-Null Count   Dtype  \n",
      "---  ------             --------------   -----  \n",
      " 0   Unnamed: 0         408558 non-null  int64  \n",
      " 1   Dst Port           408558 non-null  int64  \n",
      " 2   Protocol           408558 non-null  int64  \n",
      " 3   Flow Duration      408558 non-null  int64  \n",
      " 4   Tot Fwd Pkts       408558 non-null  int64  \n",
      " 5   Tot Bwd Pkts       408558 non-null  int64  \n",
      " 6   TotLen Fwd Pkts    408558 non-null  int64  \n",
      " 7   TotLen Bwd Pkts    408558 non-null  int64  \n",
      " 8   Fwd Pkt Len Max    408558 non-null  int64  \n",
      " 9   Fwd Pkt Len Min    408558 non-null  int64  \n",
      " 10  Fwd Pkt Len Mean   408558 non-null  float64\n",
      " 11  Fwd Pkt Len Std    408558 non-null  float64\n",
      " 12  Bwd Pkt Len Max    408558 non-null  int64  \n",
      " 13  Bwd Pkt Len Min    408558 non-null  int64  \n",
      " 14  Bwd Pkt Len Mean   408558 non-null  float64\n",
      " 15  Bwd Pkt Len Std    408558 non-null  float64\n",
      " 16  Flow Byts/s        408558 non-null  float64\n",
      " 17  Flow Pkts/s        408558 non-null  float64\n",
      " 18  Flow IAT Mean      408558 non-null  float64\n",
      " 19  Flow IAT Std       408558 non-null  float64\n",
      " 20  Flow IAT Max       408558 non-null  int64  \n",
      " 21  Flow IAT Min       408558 non-null  int64  \n",
      " 22  Fwd IAT Tot        408558 non-null  int64  \n",
      " 23  Fwd IAT Mean       408558 non-null  float64\n",
      " 24  Fwd IAT Std        408558 non-null  float64\n",
      " 25  Fwd IAT Max        408558 non-null  int64  \n",
      " 26  Fwd IAT Min        408558 non-null  int64  \n",
      " 27  Bwd IAT Tot        408558 non-null  int64  \n",
      " 28  Bwd IAT Mean       408558 non-null  float64\n",
      " 29  Bwd IAT Std        408558 non-null  float64\n",
      " 30  Bwd IAT Max        408558 non-null  int64  \n",
      " 31  Bwd IAT Min        408558 non-null  int64  \n",
      " 32  Fwd PSH Flags      408558 non-null  int64  \n",
      " 33  Bwd PSH Flags      408558 non-null  int64  \n",
      " 34  Fwd URG Flags      408558 non-null  int64  \n",
      " 35  Bwd URG Flags      408558 non-null  int64  \n",
      " 36  Fwd Header Len     408558 non-null  int64  \n",
      " 37  Bwd Header Len     408558 non-null  int64  \n",
      " 38  Fwd Pkts/s         408558 non-null  float64\n",
      " 39  Bwd Pkts/s         408558 non-null  float64\n",
      " 40  Pkt Len Min        408558 non-null  int64  \n",
      " 41  Pkt Len Max        408558 non-null  int64  \n",
      " 42  Pkt Len Mean       408558 non-null  float64\n",
      " 43  Pkt Len Std        408558 non-null  float64\n",
      " 44  Pkt Len Var        408558 non-null  float64\n",
      " 45  FIN Flag Cnt       408558 non-null  int64  \n",
      " 46  SYN Flag Cnt       408558 non-null  int64  \n",
      " 47  RST Flag Cnt       408558 non-null  int64  \n",
      " 48  PSH Flag Cnt       408558 non-null  int64  \n",
      " 49  ACK Flag Cnt       408558 non-null  int64  \n",
      " 50  URG Flag Cnt       408558 non-null  int64  \n",
      " 51  CWE Flag Count     408558 non-null  int64  \n",
      " 52  ECE Flag Cnt       408558 non-null  int64  \n",
      " 53  Pkt Size Avg       408558 non-null  float64\n",
      " 54  Fwd Seg Size Avg   408558 non-null  float64\n",
      " 55  Bwd Seg Size Avg   408558 non-null  float64\n",
      " 56  Fwd Byts/b Avg     408558 non-null  int64  \n",
      " 57  Fwd Pkts/b Avg     408558 non-null  int64  \n",
      " 58  Fwd Blk Rate Avg   408558 non-null  int64  \n",
      " 59  Bwd Byts/b Avg     408558 non-null  int64  \n",
      " 60  Bwd Pkts/b Avg     408558 non-null  int64  \n",
      " 61  Bwd Blk Rate Avg   408558 non-null  int64  \n",
      " 62  Subflow Fwd Pkts   408558 non-null  int64  \n",
      " 63  Subflow Fwd Byts   408558 non-null  int64  \n",
      " 64  Subflow Bwd Pkts   408558 non-null  int64  \n",
      " 65  Subflow Bwd Byts   408558 non-null  int64  \n",
      " 66  Init Fwd Win Byts  408558 non-null  int64  \n",
      " 67  Init Bwd Win Byts  408558 non-null  int64  \n",
      " 68  Fwd Act Data Pkts  408558 non-null  int64  \n",
      " 69  Fwd Seg Size Min   408558 non-null  int64  \n",
      " 70  Active Mean        408558 non-null  float64\n",
      " 71  Active Std         408558 non-null  float64\n",
      " 72  Active Max         408558 non-null  int64  \n",
      " 73  Active Min         408558 non-null  int64  \n",
      " 74  Idle Mean          408558 non-null  float64\n",
      " 75  Idle Std           408558 non-null  float64\n",
      " 76  Idle Max           408558 non-null  int64  \n",
      " 77  Idle Min           408558 non-null  int64  \n",
      " 78  Label              408558 non-null  int64  \n",
      "dtypes: float64(24), int64(55)\n",
      "memory usage: 249.4 MB\n"
     ]
    }
   ],
   "source": [
    "# feature info\n",
    "train.info()"
   ]
  },
  {
   "cell_type": "markdown",
   "id": "14f9ea97",
   "metadata": {},
   "source": [
    "# Feature scaling "
   ]
  },
  {
   "cell_type": "code",
   "execution_count": 80,
   "id": "c2558926",
   "metadata": {},
   "outputs": [],
   "source": [
    "min_max_scaler = MinMaxScaler().fit(train[['Flow Duration', 'Tot Fwd Pkts',\n",
    "       'Tot Bwd Pkts', 'TotLen Fwd Pkts', 'TotLen Bwd Pkts', 'Fwd Pkt Len Max',\n",
    "       'Fwd Pkt Len Min', 'Fwd Pkt Len Mean', 'Fwd Pkt Len Std',\n",
    "       'Bwd Pkt Len Max', 'Bwd Pkt Len Min', 'Bwd Pkt Len Mean',\n",
    "       'Bwd Pkt Len Std', 'Flow Byts/s', 'Flow Pkts/s', 'Flow IAT Mean',\n",
    "       'Flow IAT Std', 'Flow IAT Max', 'Flow IAT Min', 'Fwd IAT Tot',\n",
    "       'Fwd IAT Mean', 'Fwd IAT Std', 'Fwd IAT Max', 'Fwd IAT Min',\n",
    "       'Bwd IAT Tot', 'Bwd IAT Mean', 'Bwd IAT Std', 'Bwd IAT Max',\n",
    "       'Bwd IAT Min', 'Fwd PSH Flags', 'Bwd PSH Flags', 'Fwd URG Flags',\n",
    "       'Bwd URG Flags', 'Fwd Header Len', 'Bwd Header Len', 'Fwd Pkts/s',\n",
    "       'Bwd Pkts/s', 'Pkt Len Min', 'Pkt Len Max', 'Pkt Len Mean',\n",
    "       'Pkt Len Std', 'Pkt Len Var', 'FIN Flag Cnt', 'SYN Flag Cnt',\n",
    "       'RST Flag Cnt', 'PSH Flag Cnt', 'ACK Flag Cnt', 'URG Flag Cnt',\n",
    "       'CWE Flag Count', 'ECE Flag Cnt', 'Pkt Size Avg',\n",
    "       'Fwd Seg Size Avg', 'Bwd Seg Size Avg', 'Fwd Byts/b Avg',\n",
    "       'Fwd Pkts/b Avg', 'Fwd Blk Rate Avg', 'Bwd Byts/b Avg',\n",
    "       'Bwd Pkts/b Avg', 'Bwd Blk Rate Avg', 'Subflow Fwd Pkts',\n",
    "       'Subflow Fwd Byts', 'Subflow Bwd Pkts', 'Subflow Bwd Byts',\n",
    "       'Init Fwd Win Byts', 'Init Bwd Win Byts', 'Fwd Act Data Pkts',\n",
    "       'Fwd Seg Size Min', 'Active Mean', 'Active Std', 'Active Max',\n",
    "       'Active Min', 'Idle Mean', 'Idle Std', 'Idle Max', 'Idle Min']])"
   ]
  },
  {
   "cell_type": "code",
   "execution_count": 81,
   "id": "348a97c4",
   "metadata": {},
   "outputs": [],
   "source": [
    "numerical_columns = ['Flow Duration', 'Tot Fwd Pkts',\n",
    "       'Tot Bwd Pkts', 'TotLen Fwd Pkts', 'TotLen Bwd Pkts', 'Fwd Pkt Len Max',\n",
    "       'Fwd Pkt Len Min', 'Fwd Pkt Len Mean', 'Fwd Pkt Len Std',\n",
    "       'Bwd Pkt Len Max', 'Bwd Pkt Len Min', 'Bwd Pkt Len Mean',\n",
    "       'Bwd Pkt Len Std', 'Flow Byts/s', 'Flow Pkts/s', 'Flow IAT Mean',\n",
    "       'Flow IAT Std', 'Flow IAT Max', 'Flow IAT Min', 'Fwd IAT Tot',\n",
    "       'Fwd IAT Mean', 'Fwd IAT Std', 'Fwd IAT Max', 'Fwd IAT Min',\n",
    "       'Bwd IAT Tot', 'Bwd IAT Mean', 'Bwd IAT Std', 'Bwd IAT Max',\n",
    "       'Bwd IAT Min', 'Fwd PSH Flags', 'Bwd PSH Flags', 'Fwd URG Flags',\n",
    "       'Bwd URG Flags', 'Fwd Header Len', 'Bwd Header Len', 'Fwd Pkts/s',\n",
    "       'Bwd Pkts/s', 'Pkt Len Min', 'Pkt Len Max', 'Pkt Len Mean',\n",
    "       'Pkt Len Std', 'Pkt Len Var', 'FIN Flag Cnt', 'SYN Flag Cnt',\n",
    "       'RST Flag Cnt', 'PSH Flag Cnt', 'ACK Flag Cnt', 'URG Flag Cnt',\n",
    "       'CWE Flag Count', 'ECE Flag Cnt', 'Pkt Size Avg',\n",
    "       'Fwd Seg Size Avg', 'Bwd Seg Size Avg', 'Fwd Byts/b Avg',\n",
    "       'Fwd Pkts/b Avg', 'Fwd Blk Rate Avg', 'Bwd Byts/b Avg',\n",
    "       'Bwd Pkts/b Avg', 'Bwd Blk Rate Avg', 'Subflow Fwd Pkts',\n",
    "       'Subflow Fwd Byts', 'Subflow Bwd Pkts', 'Subflow Bwd Byts',\n",
    "       'Init Fwd Win Byts', 'Init Bwd Win Byts', 'Fwd Act Data Pkts',\n",
    "       'Fwd Seg Size Min', 'Active Mean', 'Active Std', 'Active Max',\n",
    "       'Active Min', 'Idle Mean', 'Idle Std', 'Idle Max', 'Idle Min']"
   ]
  },
  {
   "cell_type": "code",
   "execution_count": 82,
   "id": "a6c033af",
   "metadata": {},
   "outputs": [],
   "source": [
    "train[numerical_columns] = min_max_scaler.transform(train[numerical_columns])"
   ]
  },
  {
   "cell_type": "code",
   "execution_count": 83,
   "id": "942cc1fa",
   "metadata": {},
   "outputs": [
    {
     "data": {
      "text/html": [
       "<div>\n",
       "<style scoped>\n",
       "    .dataframe tbody tr th:only-of-type {\n",
       "        vertical-align: middle;\n",
       "    }\n",
       "\n",
       "    .dataframe tbody tr th {\n",
       "        vertical-align: top;\n",
       "    }\n",
       "\n",
       "    .dataframe thead th {\n",
       "        text-align: right;\n",
       "    }\n",
       "</style>\n",
       "<table border=\"1\" class=\"dataframe\">\n",
       "  <thead>\n",
       "    <tr style=\"text-align: right;\">\n",
       "      <th></th>\n",
       "      <th>Unnamed: 0</th>\n",
       "      <th>Dst Port</th>\n",
       "      <th>Protocol</th>\n",
       "      <th>Flow Duration</th>\n",
       "      <th>Tot Fwd Pkts</th>\n",
       "      <th>Tot Bwd Pkts</th>\n",
       "      <th>TotLen Fwd Pkts</th>\n",
       "      <th>TotLen Bwd Pkts</th>\n",
       "      <th>Fwd Pkt Len Max</th>\n",
       "      <th>Fwd Pkt Len Min</th>\n",
       "      <th>...</th>\n",
       "      <th>Fwd Seg Size Min</th>\n",
       "      <th>Active Mean</th>\n",
       "      <th>Active Std</th>\n",
       "      <th>Active Max</th>\n",
       "      <th>Active Min</th>\n",
       "      <th>Idle Mean</th>\n",
       "      <th>Idle Std</th>\n",
       "      <th>Idle Max</th>\n",
       "      <th>Idle Min</th>\n",
       "      <th>Label</th>\n",
       "    </tr>\n",
       "  </thead>\n",
       "  <tbody>\n",
       "    <tr>\n",
       "      <th>260100</th>\n",
       "      <td>458755</td>\n",
       "      <td>53</td>\n",
       "      <td>17</td>\n",
       "      <td>2.191667e-06</td>\n",
       "      <td>0.503794</td>\n",
       "      <td>0.539864</td>\n",
       "      <td>0.000005</td>\n",
       "      <td>0.000001</td>\n",
       "      <td>0.000924</td>\n",
       "      <td>0.028082</td>\n",
       "      <td>...</td>\n",
       "      <td>0.181818</td>\n",
       "      <td>0.0</td>\n",
       "      <td>0.0</td>\n",
       "      <td>0.0</td>\n",
       "      <td>0.0</td>\n",
       "      <td>0.0</td>\n",
       "      <td>0.0</td>\n",
       "      <td>0.0</td>\n",
       "      <td>0.0</td>\n",
       "      <td>0</td>\n",
       "    </tr>\n",
       "    <tr>\n",
       "      <th>277137</th>\n",
       "      <td>643382</td>\n",
       "      <td>41697</td>\n",
       "      <td>6</td>\n",
       "      <td>2.500000e-07</td>\n",
       "      <td>0.503810</td>\n",
       "      <td>0.539847</td>\n",
       "      <td>0.000000</td>\n",
       "      <td>0.000000</td>\n",
       "      <td>0.000000</td>\n",
       "      <td>0.000000</td>\n",
       "      <td>...</td>\n",
       "      <td>0.454545</td>\n",
       "      <td>0.0</td>\n",
       "      <td>0.0</td>\n",
       "      <td>0.0</td>\n",
       "      <td>0.0</td>\n",
       "      <td>0.0</td>\n",
       "      <td>0.0</td>\n",
       "      <td>0.0</td>\n",
       "      <td>0.0</td>\n",
       "      <td>0</td>\n",
       "    </tr>\n",
       "    <tr>\n",
       "      <th>1049136</th>\n",
       "      <td>11947</td>\n",
       "      <td>80</td>\n",
       "      <td>6</td>\n",
       "      <td>2.270667e-04</td>\n",
       "      <td>0.503810</td>\n",
       "      <td>0.539847</td>\n",
       "      <td>0.000000</td>\n",
       "      <td>0.000000</td>\n",
       "      <td>0.000000</td>\n",
       "      <td>0.000000</td>\n",
       "      <td>...</td>\n",
       "      <td>0.454545</td>\n",
       "      <td>0.0</td>\n",
       "      <td>0.0</td>\n",
       "      <td>0.0</td>\n",
       "      <td>0.0</td>\n",
       "      <td>0.0</td>\n",
       "      <td>0.0</td>\n",
       "      <td>0.0</td>\n",
       "      <td>0.0</td>\n",
       "      <td>1</td>\n",
       "    </tr>\n",
       "    <tr>\n",
       "      <th>93890</th>\n",
       "      <td>623183</td>\n",
       "      <td>443</td>\n",
       "      <td>6</td>\n",
       "      <td>3.658334e-06</td>\n",
       "      <td>0.503825</td>\n",
       "      <td>0.539847</td>\n",
       "      <td>0.000009</td>\n",
       "      <td>0.000000</td>\n",
       "      <td>0.001036</td>\n",
       "      <td>0.000000</td>\n",
       "      <td>...</td>\n",
       "      <td>0.454545</td>\n",
       "      <td>0.0</td>\n",
       "      <td>0.0</td>\n",
       "      <td>0.0</td>\n",
       "      <td>0.0</td>\n",
       "      <td>0.0</td>\n",
       "      <td>0.0</td>\n",
       "      <td>0.0</td>\n",
       "      <td>0.0</td>\n",
       "      <td>0</td>\n",
       "    </tr>\n",
       "    <tr>\n",
       "      <th>32687</th>\n",
       "      <td>399032</td>\n",
       "      <td>58160</td>\n",
       "      <td>6</td>\n",
       "      <td>8.941667e-06</td>\n",
       "      <td>0.503856</td>\n",
       "      <td>0.539882</td>\n",
       "      <td>0.000107</td>\n",
       "      <td>0.000005</td>\n",
       "      <td>0.021062</td>\n",
       "      <td>0.000000</td>\n",
       "      <td>...</td>\n",
       "      <td>0.454545</td>\n",
       "      <td>0.0</td>\n",
       "      <td>0.0</td>\n",
       "      <td>0.0</td>\n",
       "      <td>0.0</td>\n",
       "      <td>0.0</td>\n",
       "      <td>0.0</td>\n",
       "      <td>0.0</td>\n",
       "      <td>0.0</td>\n",
       "      <td>0</td>\n",
       "    </tr>\n",
       "    <tr>\n",
       "      <th>...</th>\n",
       "      <td>...</td>\n",
       "      <td>...</td>\n",
       "      <td>...</td>\n",
       "      <td>...</td>\n",
       "      <td>...</td>\n",
       "      <td>...</td>\n",
       "      <td>...</td>\n",
       "      <td>...</td>\n",
       "      <td>...</td>\n",
       "      <td>...</td>\n",
       "      <td>...</td>\n",
       "      <td>...</td>\n",
       "      <td>...</td>\n",
       "      <td>...</td>\n",
       "      <td>...</td>\n",
       "      <td>...</td>\n",
       "      <td>...</td>\n",
       "      <td>...</td>\n",
       "      <td>...</td>\n",
       "      <td>...</td>\n",
       "      <td>...</td>\n",
       "    </tr>\n",
       "    <tr>\n",
       "      <th>532609</th>\n",
       "      <td>1741</td>\n",
       "      <td>21</td>\n",
       "      <td>6</td>\n",
       "      <td>8.333334e-09</td>\n",
       "      <td>0.503794</td>\n",
       "      <td>0.539864</td>\n",
       "      <td>0.000000</td>\n",
       "      <td>0.000000</td>\n",
       "      <td>0.000000</td>\n",
       "      <td>0.000000</td>\n",
       "      <td>...</td>\n",
       "      <td>0.909091</td>\n",
       "      <td>0.0</td>\n",
       "      <td>0.0</td>\n",
       "      <td>0.0</td>\n",
       "      <td>0.0</td>\n",
       "      <td>0.0</td>\n",
       "      <td>0.0</td>\n",
       "      <td>0.0</td>\n",
       "      <td>0.0</td>\n",
       "      <td>1</td>\n",
       "    </tr>\n",
       "    <tr>\n",
       "      <th>255475</th>\n",
       "      <td>909524</td>\n",
       "      <td>443</td>\n",
       "      <td>6</td>\n",
       "      <td>2.506742e-03</td>\n",
       "      <td>0.503810</td>\n",
       "      <td>0.539847</td>\n",
       "      <td>0.000000</td>\n",
       "      <td>0.000000</td>\n",
       "      <td>0.000000</td>\n",
       "      <td>0.000000</td>\n",
       "      <td>...</td>\n",
       "      <td>0.454545</td>\n",
       "      <td>0.0</td>\n",
       "      <td>0.0</td>\n",
       "      <td>0.0</td>\n",
       "      <td>0.0</td>\n",
       "      <td>0.0</td>\n",
       "      <td>0.0</td>\n",
       "      <td>0.0</td>\n",
       "      <td>0.0</td>\n",
       "      <td>0</td>\n",
       "    </tr>\n",
       "    <tr>\n",
       "      <th>281948</th>\n",
       "      <td>962069</td>\n",
       "      <td>53</td>\n",
       "      <td>17</td>\n",
       "      <td>2.708334e-06</td>\n",
       "      <td>0.503794</td>\n",
       "      <td>0.539864</td>\n",
       "      <td>0.000005</td>\n",
       "      <td>0.000001</td>\n",
       "      <td>0.000946</td>\n",
       "      <td>0.028767</td>\n",
       "      <td>...</td>\n",
       "      <td>0.181818</td>\n",
       "      <td>0.0</td>\n",
       "      <td>0.0</td>\n",
       "      <td>0.0</td>\n",
       "      <td>0.0</td>\n",
       "      <td>0.0</td>\n",
       "      <td>0.0</td>\n",
       "      <td>0.0</td>\n",
       "      <td>0.0</td>\n",
       "      <td>0</td>\n",
       "    </tr>\n",
       "    <tr>\n",
       "      <th>163772</th>\n",
       "      <td>205596</td>\n",
       "      <td>80</td>\n",
       "      <td>6</td>\n",
       "      <td>9.833334e-07</td>\n",
       "      <td>0.503810</td>\n",
       "      <td>0.539847</td>\n",
       "      <td>0.000000</td>\n",
       "      <td>0.000000</td>\n",
       "      <td>0.000000</td>\n",
       "      <td>0.000000</td>\n",
       "      <td>...</td>\n",
       "      <td>0.454545</td>\n",
       "      <td>0.0</td>\n",
       "      <td>0.0</td>\n",
       "      <td>0.0</td>\n",
       "      <td>0.0</td>\n",
       "      <td>0.0</td>\n",
       "      <td>0.0</td>\n",
       "      <td>0.0</td>\n",
       "      <td>0.0</td>\n",
       "      <td>0</td>\n",
       "    </tr>\n",
       "    <tr>\n",
       "      <th>989507</th>\n",
       "      <td>263292</td>\n",
       "      <td>80</td>\n",
       "      <td>6</td>\n",
       "      <td>1.145833e-05</td>\n",
       "      <td>0.503825</td>\n",
       "      <td>0.539916</td>\n",
       "      <td>0.000036</td>\n",
       "      <td>0.000019</td>\n",
       "      <td>0.007118</td>\n",
       "      <td>0.000000</td>\n",
       "      <td>...</td>\n",
       "      <td>0.454545</td>\n",
       "      <td>0.0</td>\n",
       "      <td>0.0</td>\n",
       "      <td>0.0</td>\n",
       "      <td>0.0</td>\n",
       "      <td>0.0</td>\n",
       "      <td>0.0</td>\n",
       "      <td>0.0</td>\n",
       "      <td>0.0</td>\n",
       "      <td>1</td>\n",
       "    </tr>\n",
       "  </tbody>\n",
       "</table>\n",
       "<p>408558 rows × 79 columns</p>\n",
       "</div>"
      ],
      "text/plain": [
       "         Unnamed: 0  Dst Port  Protocol  Flow Duration  Tot Fwd Pkts  \\\n",
       "260100       458755        53        17   2.191667e-06      0.503794   \n",
       "277137       643382     41697         6   2.500000e-07      0.503810   \n",
       "1049136       11947        80         6   2.270667e-04      0.503810   \n",
       "93890        623183       443         6   3.658334e-06      0.503825   \n",
       "32687        399032     58160         6   8.941667e-06      0.503856   \n",
       "...             ...       ...       ...            ...           ...   \n",
       "532609         1741        21         6   8.333334e-09      0.503794   \n",
       "255475       909524       443         6   2.506742e-03      0.503810   \n",
       "281948       962069        53        17   2.708334e-06      0.503794   \n",
       "163772       205596        80         6   9.833334e-07      0.503810   \n",
       "989507       263292        80         6   1.145833e-05      0.503825   \n",
       "\n",
       "         Tot Bwd Pkts  TotLen Fwd Pkts  TotLen Bwd Pkts  Fwd Pkt Len Max  \\\n",
       "260100       0.539864         0.000005         0.000001         0.000924   \n",
       "277137       0.539847         0.000000         0.000000         0.000000   \n",
       "1049136      0.539847         0.000000         0.000000         0.000000   \n",
       "93890        0.539847         0.000009         0.000000         0.001036   \n",
       "32687        0.539882         0.000107         0.000005         0.021062   \n",
       "...               ...              ...              ...              ...   \n",
       "532609       0.539864         0.000000         0.000000         0.000000   \n",
       "255475       0.539847         0.000000         0.000000         0.000000   \n",
       "281948       0.539864         0.000005         0.000001         0.000946   \n",
       "163772       0.539847         0.000000         0.000000         0.000000   \n",
       "989507       0.539916         0.000036         0.000019         0.007118   \n",
       "\n",
       "         Fwd Pkt Len Min  ...  Fwd Seg Size Min  Active Mean  Active Std  \\\n",
       "260100          0.028082  ...          0.181818          0.0         0.0   \n",
       "277137          0.000000  ...          0.454545          0.0         0.0   \n",
       "1049136         0.000000  ...          0.454545          0.0         0.0   \n",
       "93890           0.000000  ...          0.454545          0.0         0.0   \n",
       "32687           0.000000  ...          0.454545          0.0         0.0   \n",
       "...                  ...  ...               ...          ...         ...   \n",
       "532609          0.000000  ...          0.909091          0.0         0.0   \n",
       "255475          0.000000  ...          0.454545          0.0         0.0   \n",
       "281948          0.028767  ...          0.181818          0.0         0.0   \n",
       "163772          0.000000  ...          0.454545          0.0         0.0   \n",
       "989507          0.000000  ...          0.454545          0.0         0.0   \n",
       "\n",
       "         Active Max  Active Min  Idle Mean  Idle Std  Idle Max  Idle Min  \\\n",
       "260100          0.0         0.0        0.0       0.0       0.0       0.0   \n",
       "277137          0.0         0.0        0.0       0.0       0.0       0.0   \n",
       "1049136         0.0         0.0        0.0       0.0       0.0       0.0   \n",
       "93890           0.0         0.0        0.0       0.0       0.0       0.0   \n",
       "32687           0.0         0.0        0.0       0.0       0.0       0.0   \n",
       "...             ...         ...        ...       ...       ...       ...   \n",
       "532609          0.0         0.0        0.0       0.0       0.0       0.0   \n",
       "255475          0.0         0.0        0.0       0.0       0.0       0.0   \n",
       "281948          0.0         0.0        0.0       0.0       0.0       0.0   \n",
       "163772          0.0         0.0        0.0       0.0       0.0       0.0   \n",
       "989507          0.0         0.0        0.0       0.0       0.0       0.0   \n",
       "\n",
       "         Label  \n",
       "260100       0  \n",
       "277137       0  \n",
       "1049136      1  \n",
       "93890        0  \n",
       "32687        0  \n",
       "...        ...  \n",
       "532609       1  \n",
       "255475       0  \n",
       "281948       0  \n",
       "163772       0  \n",
       "989507       1  \n",
       "\n",
       "[408558 rows x 79 columns]"
      ]
     },
     "execution_count": 83,
     "metadata": {},
     "output_type": "execute_result"
    }
   ],
   "source": [
    "train"
   ]
  },
  {
   "cell_type": "code",
   "execution_count": 84,
   "id": "6bcb2461",
   "metadata": {},
   "outputs": [],
   "source": [
    "train.drop(['Unnamed: 0'], axis=1,inplace=True)\n",
    "test.drop(['Unnamed: 0'],axis=1,inplace=True)"
   ]
  },
  {
   "cell_type": "code",
   "execution_count": 85,
   "id": "61e5dfe2",
   "metadata": {},
   "outputs": [
    {
     "data": {
      "text/html": [
       "<div>\n",
       "<style scoped>\n",
       "    .dataframe tbody tr th:only-of-type {\n",
       "        vertical-align: middle;\n",
       "    }\n",
       "\n",
       "    .dataframe tbody tr th {\n",
       "        vertical-align: top;\n",
       "    }\n",
       "\n",
       "    .dataframe thead th {\n",
       "        text-align: right;\n",
       "    }\n",
       "</style>\n",
       "<table border=\"1\" class=\"dataframe\">\n",
       "  <thead>\n",
       "    <tr style=\"text-align: right;\">\n",
       "      <th></th>\n",
       "      <th>Dst Port</th>\n",
       "      <th>Protocol</th>\n",
       "      <th>Flow Duration</th>\n",
       "      <th>Tot Fwd Pkts</th>\n",
       "      <th>Tot Bwd Pkts</th>\n",
       "      <th>TotLen Fwd Pkts</th>\n",
       "      <th>TotLen Bwd Pkts</th>\n",
       "      <th>Fwd Pkt Len Max</th>\n",
       "      <th>Fwd Pkt Len Min</th>\n",
       "      <th>Fwd Pkt Len Mean</th>\n",
       "      <th>...</th>\n",
       "      <th>Fwd Seg Size Min</th>\n",
       "      <th>Active Mean</th>\n",
       "      <th>Active Std</th>\n",
       "      <th>Active Max</th>\n",
       "      <th>Active Min</th>\n",
       "      <th>Idle Mean</th>\n",
       "      <th>Idle Std</th>\n",
       "      <th>Idle Max</th>\n",
       "      <th>Idle Min</th>\n",
       "      <th>Label</th>\n",
       "    </tr>\n",
       "  </thead>\n",
       "  <tbody>\n",
       "    <tr>\n",
       "      <th>260100</th>\n",
       "      <td>53</td>\n",
       "      <td>17</td>\n",
       "      <td>2.191667e-06</td>\n",
       "      <td>0.503794</td>\n",
       "      <td>0.539864</td>\n",
       "      <td>0.000005</td>\n",
       "      <td>0.000001</td>\n",
       "      <td>0.000924</td>\n",
       "      <td>0.028082</td>\n",
       "      <td>0.006574</td>\n",
       "      <td>...</td>\n",
       "      <td>0.181818</td>\n",
       "      <td>0.0</td>\n",
       "      <td>0.0</td>\n",
       "      <td>0.0</td>\n",
       "      <td>0.0</td>\n",
       "      <td>0.0</td>\n",
       "      <td>0.0</td>\n",
       "      <td>0.0</td>\n",
       "      <td>0.0</td>\n",
       "      <td>0</td>\n",
       "    </tr>\n",
       "    <tr>\n",
       "      <th>277137</th>\n",
       "      <td>41697</td>\n",
       "      <td>6</td>\n",
       "      <td>2.500000e-07</td>\n",
       "      <td>0.503810</td>\n",
       "      <td>0.539847</td>\n",
       "      <td>0.000000</td>\n",
       "      <td>0.000000</td>\n",
       "      <td>0.000000</td>\n",
       "      <td>0.000000</td>\n",
       "      <td>0.000000</td>\n",
       "      <td>...</td>\n",
       "      <td>0.454545</td>\n",
       "      <td>0.0</td>\n",
       "      <td>0.0</td>\n",
       "      <td>0.0</td>\n",
       "      <td>0.0</td>\n",
       "      <td>0.0</td>\n",
       "      <td>0.0</td>\n",
       "      <td>0.0</td>\n",
       "      <td>0.0</td>\n",
       "      <td>0</td>\n",
       "    </tr>\n",
       "    <tr>\n",
       "      <th>1049136</th>\n",
       "      <td>80</td>\n",
       "      <td>6</td>\n",
       "      <td>2.270667e-04</td>\n",
       "      <td>0.503810</td>\n",
       "      <td>0.539847</td>\n",
       "      <td>0.000000</td>\n",
       "      <td>0.000000</td>\n",
       "      <td>0.000000</td>\n",
       "      <td>0.000000</td>\n",
       "      <td>0.000000</td>\n",
       "      <td>...</td>\n",
       "      <td>0.454545</td>\n",
       "      <td>0.0</td>\n",
       "      <td>0.0</td>\n",
       "      <td>0.0</td>\n",
       "      <td>0.0</td>\n",
       "      <td>0.0</td>\n",
       "      <td>0.0</td>\n",
       "      <td>0.0</td>\n",
       "      <td>0.0</td>\n",
       "      <td>1</td>\n",
       "    </tr>\n",
       "    <tr>\n",
       "      <th>93890</th>\n",
       "      <td>443</td>\n",
       "      <td>6</td>\n",
       "      <td>3.658334e-06</td>\n",
       "      <td>0.503825</td>\n",
       "      <td>0.539847</td>\n",
       "      <td>0.000009</td>\n",
       "      <td>0.000000</td>\n",
       "      <td>0.001036</td>\n",
       "      <td>0.000000</td>\n",
       "      <td>0.004115</td>\n",
       "      <td>...</td>\n",
       "      <td>0.454545</td>\n",
       "      <td>0.0</td>\n",
       "      <td>0.0</td>\n",
       "      <td>0.0</td>\n",
       "      <td>0.0</td>\n",
       "      <td>0.0</td>\n",
       "      <td>0.0</td>\n",
       "      <td>0.0</td>\n",
       "      <td>0.0</td>\n",
       "      <td>0</td>\n",
       "    </tr>\n",
       "    <tr>\n",
       "      <th>32687</th>\n",
       "      <td>58160</td>\n",
       "      <td>6</td>\n",
       "      <td>8.941667e-06</td>\n",
       "      <td>0.503856</td>\n",
       "      <td>0.539882</td>\n",
       "      <td>0.000107</td>\n",
       "      <td>0.000005</td>\n",
       "      <td>0.021062</td>\n",
       "      <td>0.000000</td>\n",
       "      <td>0.029982</td>\n",
       "      <td>...</td>\n",
       "      <td>0.454545</td>\n",
       "      <td>0.0</td>\n",
       "      <td>0.0</td>\n",
       "      <td>0.0</td>\n",
       "      <td>0.0</td>\n",
       "      <td>0.0</td>\n",
       "      <td>0.0</td>\n",
       "      <td>0.0</td>\n",
       "      <td>0.0</td>\n",
       "      <td>0</td>\n",
       "    </tr>\n",
       "    <tr>\n",
       "      <th>...</th>\n",
       "      <td>...</td>\n",
       "      <td>...</td>\n",
       "      <td>...</td>\n",
       "      <td>...</td>\n",
       "      <td>...</td>\n",
       "      <td>...</td>\n",
       "      <td>...</td>\n",
       "      <td>...</td>\n",
       "      <td>...</td>\n",
       "      <td>...</td>\n",
       "      <td>...</td>\n",
       "      <td>...</td>\n",
       "      <td>...</td>\n",
       "      <td>...</td>\n",
       "      <td>...</td>\n",
       "      <td>...</td>\n",
       "      <td>...</td>\n",
       "      <td>...</td>\n",
       "      <td>...</td>\n",
       "      <td>...</td>\n",
       "      <td>...</td>\n",
       "    </tr>\n",
       "    <tr>\n",
       "      <th>532609</th>\n",
       "      <td>21</td>\n",
       "      <td>6</td>\n",
       "      <td>8.333334e-09</td>\n",
       "      <td>0.503794</td>\n",
       "      <td>0.539864</td>\n",
       "      <td>0.000000</td>\n",
       "      <td>0.000000</td>\n",
       "      <td>0.000000</td>\n",
       "      <td>0.000000</td>\n",
       "      <td>0.000000</td>\n",
       "      <td>...</td>\n",
       "      <td>0.909091</td>\n",
       "      <td>0.0</td>\n",
       "      <td>0.0</td>\n",
       "      <td>0.0</td>\n",
       "      <td>0.0</td>\n",
       "      <td>0.0</td>\n",
       "      <td>0.0</td>\n",
       "      <td>0.0</td>\n",
       "      <td>0.0</td>\n",
       "      <td>1</td>\n",
       "    </tr>\n",
       "    <tr>\n",
       "      <th>255475</th>\n",
       "      <td>443</td>\n",
       "      <td>6</td>\n",
       "      <td>2.506742e-03</td>\n",
       "      <td>0.503810</td>\n",
       "      <td>0.539847</td>\n",
       "      <td>0.000000</td>\n",
       "      <td>0.000000</td>\n",
       "      <td>0.000000</td>\n",
       "      <td>0.000000</td>\n",
       "      <td>0.000000</td>\n",
       "      <td>...</td>\n",
       "      <td>0.454545</td>\n",
       "      <td>0.0</td>\n",
       "      <td>0.0</td>\n",
       "      <td>0.0</td>\n",
       "      <td>0.0</td>\n",
       "      <td>0.0</td>\n",
       "      <td>0.0</td>\n",
       "      <td>0.0</td>\n",
       "      <td>0.0</td>\n",
       "      <td>0</td>\n",
       "    </tr>\n",
       "    <tr>\n",
       "      <th>281948</th>\n",
       "      <td>53</td>\n",
       "      <td>17</td>\n",
       "      <td>2.708334e-06</td>\n",
       "      <td>0.503794</td>\n",
       "      <td>0.539864</td>\n",
       "      <td>0.000005</td>\n",
       "      <td>0.000001</td>\n",
       "      <td>0.000946</td>\n",
       "      <td>0.028767</td>\n",
       "      <td>0.006734</td>\n",
       "      <td>...</td>\n",
       "      <td>0.181818</td>\n",
       "      <td>0.0</td>\n",
       "      <td>0.0</td>\n",
       "      <td>0.0</td>\n",
       "      <td>0.0</td>\n",
       "      <td>0.0</td>\n",
       "      <td>0.0</td>\n",
       "      <td>0.0</td>\n",
       "      <td>0.0</td>\n",
       "      <td>0</td>\n",
       "    </tr>\n",
       "    <tr>\n",
       "      <th>163772</th>\n",
       "      <td>80</td>\n",
       "      <td>6</td>\n",
       "      <td>9.833334e-07</td>\n",
       "      <td>0.503810</td>\n",
       "      <td>0.539847</td>\n",
       "      <td>0.000000</td>\n",
       "      <td>0.000000</td>\n",
       "      <td>0.000000</td>\n",
       "      <td>0.000000</td>\n",
       "      <td>0.000000</td>\n",
       "      <td>...</td>\n",
       "      <td>0.454545</td>\n",
       "      <td>0.0</td>\n",
       "      <td>0.0</td>\n",
       "      <td>0.0</td>\n",
       "      <td>0.0</td>\n",
       "      <td>0.0</td>\n",
       "      <td>0.0</td>\n",
       "      <td>0.0</td>\n",
       "      <td>0.0</td>\n",
       "      <td>0</td>\n",
       "    </tr>\n",
       "    <tr>\n",
       "      <th>989507</th>\n",
       "      <td>80</td>\n",
       "      <td>6</td>\n",
       "      <td>1.145833e-05</td>\n",
       "      <td>0.503825</td>\n",
       "      <td>0.539916</td>\n",
       "      <td>0.000036</td>\n",
       "      <td>0.000019</td>\n",
       "      <td>0.007118</td>\n",
       "      <td>0.000000</td>\n",
       "      <td>0.016888</td>\n",
       "      <td>...</td>\n",
       "      <td>0.454545</td>\n",
       "      <td>0.0</td>\n",
       "      <td>0.0</td>\n",
       "      <td>0.0</td>\n",
       "      <td>0.0</td>\n",
       "      <td>0.0</td>\n",
       "      <td>0.0</td>\n",
       "      <td>0.0</td>\n",
       "      <td>0.0</td>\n",
       "      <td>1</td>\n",
       "    </tr>\n",
       "  </tbody>\n",
       "</table>\n",
       "<p>408558 rows × 78 columns</p>\n",
       "</div>"
      ],
      "text/plain": [
       "         Dst Port  Protocol  Flow Duration  Tot Fwd Pkts  Tot Bwd Pkts  \\\n",
       "260100         53        17   2.191667e-06      0.503794      0.539864   \n",
       "277137      41697         6   2.500000e-07      0.503810      0.539847   \n",
       "1049136        80         6   2.270667e-04      0.503810      0.539847   \n",
       "93890         443         6   3.658334e-06      0.503825      0.539847   \n",
       "32687       58160         6   8.941667e-06      0.503856      0.539882   \n",
       "...           ...       ...            ...           ...           ...   \n",
       "532609         21         6   8.333334e-09      0.503794      0.539864   \n",
       "255475        443         6   2.506742e-03      0.503810      0.539847   \n",
       "281948         53        17   2.708334e-06      0.503794      0.539864   \n",
       "163772         80         6   9.833334e-07      0.503810      0.539847   \n",
       "989507         80         6   1.145833e-05      0.503825      0.539916   \n",
       "\n",
       "         TotLen Fwd Pkts  TotLen Bwd Pkts  Fwd Pkt Len Max  Fwd Pkt Len Min  \\\n",
       "260100          0.000005         0.000001         0.000924         0.028082   \n",
       "277137          0.000000         0.000000         0.000000         0.000000   \n",
       "1049136         0.000000         0.000000         0.000000         0.000000   \n",
       "93890           0.000009         0.000000         0.001036         0.000000   \n",
       "32687           0.000107         0.000005         0.021062         0.000000   \n",
       "...                  ...              ...              ...              ...   \n",
       "532609          0.000000         0.000000         0.000000         0.000000   \n",
       "255475          0.000000         0.000000         0.000000         0.000000   \n",
       "281948          0.000005         0.000001         0.000946         0.028767   \n",
       "163772          0.000000         0.000000         0.000000         0.000000   \n",
       "989507          0.000036         0.000019         0.007118         0.000000   \n",
       "\n",
       "         Fwd Pkt Len Mean  ...  Fwd Seg Size Min  Active Mean  Active Std  \\\n",
       "260100           0.006574  ...          0.181818          0.0         0.0   \n",
       "277137           0.000000  ...          0.454545          0.0         0.0   \n",
       "1049136          0.000000  ...          0.454545          0.0         0.0   \n",
       "93890            0.004115  ...          0.454545          0.0         0.0   \n",
       "32687            0.029982  ...          0.454545          0.0         0.0   \n",
       "...                   ...  ...               ...          ...         ...   \n",
       "532609           0.000000  ...          0.909091          0.0         0.0   \n",
       "255475           0.000000  ...          0.454545          0.0         0.0   \n",
       "281948           0.006734  ...          0.181818          0.0         0.0   \n",
       "163772           0.000000  ...          0.454545          0.0         0.0   \n",
       "989507           0.016888  ...          0.454545          0.0         0.0   \n",
       "\n",
       "         Active Max  Active Min  Idle Mean  Idle Std  Idle Max  Idle Min  \\\n",
       "260100          0.0         0.0        0.0       0.0       0.0       0.0   \n",
       "277137          0.0         0.0        0.0       0.0       0.0       0.0   \n",
       "1049136         0.0         0.0        0.0       0.0       0.0       0.0   \n",
       "93890           0.0         0.0        0.0       0.0       0.0       0.0   \n",
       "32687           0.0         0.0        0.0       0.0       0.0       0.0   \n",
       "...             ...         ...        ...       ...       ...       ...   \n",
       "532609          0.0         0.0        0.0       0.0       0.0       0.0   \n",
       "255475          0.0         0.0        0.0       0.0       0.0       0.0   \n",
       "281948          0.0         0.0        0.0       0.0       0.0       0.0   \n",
       "163772          0.0         0.0        0.0       0.0       0.0       0.0   \n",
       "989507          0.0         0.0        0.0       0.0       0.0       0.0   \n",
       "\n",
       "         Label  \n",
       "260100       0  \n",
       "277137       0  \n",
       "1049136      1  \n",
       "93890        0  \n",
       "32687        0  \n",
       "...        ...  \n",
       "532609       1  \n",
       "255475       0  \n",
       "281948       0  \n",
       "163772       0  \n",
       "989507       1  \n",
       "\n",
       "[408558 rows x 78 columns]"
      ]
     },
     "execution_count": 85,
     "metadata": {},
     "output_type": "execute_result"
    }
   ],
   "source": [
    "train"
   ]
  },
  {
   "cell_type": "code",
   "execution_count": 86,
   "id": "a65057c5",
   "metadata": {},
   "outputs": [],
   "source": [
    "test[numerical_columns] = min_max_scaler.transform(test[numerical_columns])"
   ]
  },
  {
   "cell_type": "markdown",
   "id": "b3f02bdd",
   "metadata": {},
   "source": [
    "# Counting number of records in each split"
   ]
  },
  {
   "cell_type": "code",
   "execution_count": 87,
   "id": "e9dce1fd",
   "metadata": {},
   "outputs": [
    {
     "name": "stdout",
     "output_type": "stream",
     "text": [
      "Full dataset:\n",
      "\n",
      "Benign: 255349\n",
      "Malicious: 255349\n",
      "---------------\n",
      "Training set:\n",
      "\n",
      "Benign: 204329\n",
      "Malicious: 204229\n",
      "---------------\n",
      "Test set:\n",
      "\n",
      "Benign: 51020\n",
      "Malicious: 51120\n"
     ]
    }
   ],
   "source": [
    "print(\"Full dataset:\\n\")\n",
    "print(\"Benign: \" + str(df_equal[\"Label\"].value_counts()[[0]].sum()))\n",
    "print(\"Malicious: \" + str(df_equal[\"Label\"].value_counts()[[1]].sum()))\n",
    "print(\"---------------\")\n",
    "\n",
    "print(\"Training set:\\n\")\n",
    "print(\"Benign: \" + str(train[\"Label\"].value_counts()[[0]].sum()))\n",
    "print(\"Malicious: \" + str(train[\"Label\"].value_counts()[[1]].sum()))\n",
    "print(\"---------------\")\n",
    "\n",
    "print(\"Test set:\\n\")\n",
    "print(\"Benign: \" + str(test[\"Label\"].value_counts()[[0]].sum()))\n",
    "print(\"Malicious: \" + str(test[\"Label\"].value_counts()[[1]].sum()))"
   ]
  },
  {
   "cell_type": "markdown",
   "id": "17105619",
   "metadata": {},
   "source": [
    "# Creating X, y variables"
   ]
  },
  {
   "cell_type": "code",
   "execution_count": 88,
   "id": "fa570785",
   "metadata": {},
   "outputs": [],
   "source": [
    "y_train = np.array(train.pop(\"Label\"))# pop removes \"Label\" from the dataframe\n",
    "X_train = train.values"
   ]
  },
  {
   "cell_type": "code",
   "execution_count": 89,
   "id": "630bb932",
   "metadata": {},
   "outputs": [],
   "source": [
    "y_test = np.array(test.pop(\"Label\")) # pop removes \"Label\" from the dataframe\n",
    "X_test = test.values"
   ]
  },
  {
   "cell_type": "markdown",
   "id": "91cd8fb7",
   "metadata": {},
   "source": [
    "# Decision Tree Classifier\n"
   ]
  },
  {
   "cell_type": "code",
   "execution_count": 90,
   "id": "64a9bfff",
   "metadata": {},
   "outputs": [],
   "source": [
    "#Decision Tree \n",
    "import time\n",
    "from sklearn.tree import DecisionTreeClassifier"
   ]
  },
  {
   "cell_type": "code",
   "execution_count": 91,
   "id": "38e011d7",
   "metadata": {},
   "outputs": [],
   "source": [
    "model1 = DecisionTreeClassifier(criterion=\"entropy\", max_depth = 4)"
   ]
  },
  {
   "cell_type": "code",
   "execution_count": 92,
   "id": "8dfab53e",
   "metadata": {},
   "outputs": [],
   "source": [
    "start_time = time.time()\n",
    "model1.fit(X_train, y_train)\n",
    "end_time = time.time()"
   ]
  },
  {
   "cell_type": "code",
   "execution_count": 93,
   "id": "978c33b9",
   "metadata": {},
   "outputs": [
    {
     "name": "stdout",
     "output_type": "stream",
     "text": [
      "Training time:  3.016832113265991\n"
     ]
    }
   ],
   "source": [
    "print(\"Training time: \",end_time-start_time)"
   ]
  },
  {
   "cell_type": "code",
   "execution_count": 94,
   "id": "4ae566dd",
   "metadata": {},
   "outputs": [],
   "source": [
    "start_time = time.time()\n",
    "Y_test_pred1 = model1.predict(X_test)\n",
    "end_time = time.time()"
   ]
  },
  {
   "cell_type": "code",
   "execution_count": 95,
   "id": "e1d93c55",
   "metadata": {},
   "outputs": [
    {
     "name": "stdout",
     "output_type": "stream",
     "text": [
      "Testing time:  0.024205923080444336\n"
     ]
    }
   ],
   "source": [
    "print(\"Testing time: \",end_time-start_time)"
   ]
  },
  {
   "cell_type": "code",
   "execution_count": 96,
   "id": "d1e388a7",
   "metadata": {},
   "outputs": [
    {
     "name": "stdout",
     "output_type": "stream",
     "text": [
      "Train score is: 0.9908385100769046\n",
      "Test score is: 0.9906892500489524\n"
     ]
    }
   ],
   "source": [
    "print(\"Train score is:\", model1.score(X_train, y_train))\n",
    "print(\"Test score is:\",model1.score(X_test,y_test))"
   ]
  },
  {
   "cell_type": "code",
   "execution_count": 138,
   "id": "959fd5ee",
   "metadata": {},
   "outputs": [],
   "source": [
    "# Predicting Train & Test Results\n",
    "y_dt = model1.predict(X_train)\n",
    "y_pred_dt = model1.predict(X_test)\n",
    "\n"
   ]
  },
  {
   "cell_type": "code",
   "execution_count": 139,
   "id": "502d108b",
   "metadata": {},
   "outputs": [
    {
     "name": "stdout",
     "output_type": "stream",
     "text": [
      "precision on Training set:  0.9943046213929269\n",
      "precision on Testing set:  0.9941882227782265\n"
     ]
    }
   ],
   "source": [
    "#Hassasiyet(precision)\n",
    "from sklearn.metrics import precision_score\n",
    "print(\"precision on Training set: \",metrics.precision_score(y_train, y_dt))\n",
    "print(\"precision on Testing set: \",metrics.precision_score(y_test, y_pred_dt))"
   ]
  },
  {
   "cell_type": "code",
   "execution_count": 140,
   "id": "63d952df",
   "metadata": {},
   "outputs": [
    {
     "name": "stdout",
     "output_type": "stream",
     "text": [
      "recall on Training set:  0.9873279504869533\n",
      "recall on Testing set:  0.9871674491392801\n"
     ]
    }
   ],
   "source": [
    "#geri çağırma\n",
    "from sklearn.metrics import recall_score\n",
    "\n",
    "print(\"recall on Training set: \",metrics.recall_score(y_train, y_dt))\n",
    "print(\"recall on Testing set: \",metrics.recall_score(y_test, y_pred_dt))"
   ]
  },
  {
   "cell_type": "code",
   "execution_count": 141,
   "id": "ca167f8d",
   "metadata": {},
   "outputs": [
    {
     "name": "stdout",
     "output_type": "stream",
     "text": [
      "F1-Score  on Training set:  0.9908040046680179\n",
      "F1-Score on Testing set:  0.9906653971868589\n"
     ]
    }
   ],
   "source": [
    "#F1 skoru\n",
    "from sklearn.metrics import f1_score\n",
    "\n",
    "print(\"F1-Score  on Training set: \",metrics.f1_score(y_train, y_dt))\n",
    "print(\"F1-Score on Testing set: \",metrics.f1_score(y_test, y_pred_dt))"
   ]
  },
  {
   "cell_type": "markdown",
   "id": "b20bb035",
   "metadata": {},
   "source": [
    "# SUPPORT VECTOR MACHINE"
   ]
  },
  {
   "cell_type": "markdown",
   "id": "de3f012c",
   "metadata": {},
   "source": [
    "from sklearn.svm import SVC"
   ]
  },
  {
   "cell_type": "markdown",
   "id": "7fd0b587",
   "metadata": {},
   "source": [
    "model4 = SVC(gamma = 'scale')"
   ]
  },
  {
   "cell_type": "markdown",
   "id": "161a0884",
   "metadata": {},
   "source": [
    "start_time = time.time()\n",
    "model4.fit(X_train, y_train)\n",
    "end_time = time.time()"
   ]
  },
  {
   "cell_type": "markdown",
   "id": "73f27014",
   "metadata": {},
   "source": [
    "print(\"Training time: \",end_time-start_time)"
   ]
  },
  {
   "cell_type": "markdown",
   "id": "5d842e72",
   "metadata": {},
   "source": [
    "start_time = time.time()\n",
    "Y_test_pred4 = model4.predict(X_test)\n",
    "end_time = time.time()"
   ]
  },
  {
   "cell_type": "markdown",
   "id": "12eb7f7e",
   "metadata": {},
   "source": [
    "print(\"Testing time: \",end_time-start_time)"
   ]
  },
  {
   "cell_type": "markdown",
   "id": "42034854",
   "metadata": {},
   "source": [
    "print(\"Train score is:\", model4.score(X_train, y_train))\n",
    "print(\"Test score is:\", model4.score(X_test,y_test))"
   ]
  },
  {
   "cell_type": "markdown",
   "id": "a618742b",
   "metadata": {},
   "source": [
    "# LOGISTIC REGRESSION"
   ]
  },
  {
   "cell_type": "code",
   "execution_count": 97,
   "id": "0fc340ff",
   "metadata": {},
   "outputs": [],
   "source": [
    "from sklearn.linear_model import LogisticRegression"
   ]
  },
  {
   "cell_type": "code",
   "execution_count": 98,
   "id": "0cf7f056",
   "metadata": {},
   "outputs": [],
   "source": [
    "model2 = LogisticRegression(max_iter=1200000)"
   ]
  },
  {
   "cell_type": "code",
   "execution_count": 99,
   "id": "29cca830",
   "metadata": {},
   "outputs": [],
   "source": [
    "start_time = time.time()\n",
    "model2.fit(X_train, y_train)\n",
    "end_time = time.time()"
   ]
  },
  {
   "cell_type": "code",
   "execution_count": 100,
   "id": "c052abe5",
   "metadata": {},
   "outputs": [
    {
     "name": "stdout",
     "output_type": "stream",
     "text": [
      "Training time:  12.535989761352539\n"
     ]
    }
   ],
   "source": [
    "print(\"Training time: \",end_time-start_time)"
   ]
  },
  {
   "cell_type": "code",
   "execution_count": 101,
   "id": "2c170315",
   "metadata": {},
   "outputs": [],
   "source": [
    "start_time = time.time()\n",
    "Y_test_pred2 = model2.predict(X_test)\n",
    "end_time = time.time()"
   ]
  },
  {
   "cell_type": "code",
   "execution_count": 102,
   "id": "ecaff716",
   "metadata": {},
   "outputs": [
    {
     "name": "stdout",
     "output_type": "stream",
     "text": [
      "Testing time:  0.01634955406188965\n"
     ]
    }
   ],
   "source": [
    "print(\"Testing time: \",end_time-start_time)"
   ]
  },
  {
   "cell_type": "code",
   "execution_count": 103,
   "id": "8afb2a93",
   "metadata": {},
   "outputs": [
    {
     "name": "stdout",
     "output_type": "stream",
     "text": [
      "Train score is: 0.9508270551549597\n",
      "Test score is: 0.9511161151360877\n"
     ]
    }
   ],
   "source": [
    "print(\"Train score is:\", model2.score(X_train, y_train))\n",
    "print(\"Test score is:\",model2.score(X_test,y_test))"
   ]
  },
  {
   "cell_type": "code",
   "execution_count": 136,
   "id": "6d3d5974",
   "metadata": {},
   "outputs": [],
   "source": [
    "from sklearn import metrics\n",
    "\n",
    "# Predicting Train & Test Results\n",
    "y_dt = model2.predict(X_train)\n",
    "y_pred_dt = model2.predict(X_test)\n"
   ]
  },
  {
   "cell_type": "code",
   "execution_count": 105,
   "id": "fd3b0317",
   "metadata": {},
   "outputs": [
    {
     "name": "stdout",
     "output_type": "stream",
     "text": [
      "precision on Training set:  0.9264984504778272\n",
      "precision on Testing set:  0.926225721202713\n"
     ]
    }
   ],
   "source": [
    "#Hassasiyet(precision)\n",
    "from sklearn.metrics import precision_score\n",
    "print(\"precision on Training set: \",metrics.precision_score(y_train, y_dt))\n",
    "print(\"precision on Testing set: \",metrics.precision_score(y_test, y_pred_dt))"
   ]
  },
  {
   "cell_type": "code",
   "execution_count": 106,
   "id": "c8d79cd7",
   "metadata": {},
   "outputs": [
    {
     "name": "stdout",
     "output_type": "stream",
     "text": [
      "recall on Training set:  0.9793222314166941\n",
      "recall on Testing set:  0.9804186228482004\n"
     ]
    }
   ],
   "source": [
    "#geri çağırma\n",
    "from sklearn.metrics import recall_score\n",
    "\n",
    "print(\"recall on Training set: \",metrics.recall_score(y_train, y_dt))\n",
    "print(\"recall on Testing set: \",metrics.recall_score(y_test, y_pred_dt))"
   ]
  },
  {
   "cell_type": "code",
   "execution_count": 107,
   "id": "347ccee4",
   "metadata": {},
   "outputs": [
    {
     "name": "stdout",
     "output_type": "stream",
     "text": [
      "F1-Score  on Training set:  0.9521782805128279\n",
      "F1-Score on Testing set:  0.9525520046374168\n"
     ]
    }
   ],
   "source": [
    "#F1 skoru\n",
    "from sklearn.metrics import f1_score\n",
    "\n",
    "print(\"F1-Score  on Training set: \",metrics.f1_score(y_train, y_dt))\n",
    "print(\"F1-Score on Testing set: \",metrics.f1_score(y_test, y_pred_dt))\n"
   ]
  },
  {
   "cell_type": "markdown",
   "id": "98471cd3",
   "metadata": {},
   "source": [
    "# Gaussian Naive Bayes"
   ]
  },
  {
   "cell_type": "code",
   "execution_count": 108,
   "id": "49aad2f7",
   "metadata": {},
   "outputs": [],
   "source": [
    "\n",
    "from sklearn.naive_bayes import GaussianNB"
   ]
  },
  {
   "cell_type": "code",
   "execution_count": 109,
   "id": "61d55d95",
   "metadata": {},
   "outputs": [],
   "source": [
    "model3 = GaussianNB()\n"
   ]
  },
  {
   "cell_type": "code",
   "execution_count": 110,
   "id": "a1eb88e4",
   "metadata": {},
   "outputs": [],
   "source": [
    "start_time = time.time()\n",
    "model3.fit(X_train, y_train)\n",
    "end_time = time.time()"
   ]
  },
  {
   "cell_type": "code",
   "execution_count": 111,
   "id": "98c33af3",
   "metadata": {},
   "outputs": [
    {
     "name": "stdout",
     "output_type": "stream",
     "text": [
      "Training time:  0.5992553234100342\n"
     ]
    }
   ],
   "source": [
    "print(\"Training time: \",end_time-start_time)"
   ]
  },
  {
   "cell_type": "code",
   "execution_count": 112,
   "id": "9a56c820",
   "metadata": {},
   "outputs": [],
   "source": [
    "start_time = time.time()\n",
    "Y_test_pred3 = model3.predict(X_test)\n",
    "end_time = time.time()"
   ]
  },
  {
   "cell_type": "code",
   "execution_count": 113,
   "id": "98d1a7dd",
   "metadata": {},
   "outputs": [
    {
     "name": "stdout",
     "output_type": "stream",
     "text": [
      "Testing time:  0.1391456127166748\n"
     ]
    }
   ],
   "source": [
    "print(\"Testing time: \",end_time-start_time)"
   ]
  },
  {
   "cell_type": "code",
   "execution_count": 114,
   "id": "8e6b4650",
   "metadata": {},
   "outputs": [
    {
     "name": "stdout",
     "output_type": "stream",
     "text": [
      "Train score is: 0.7542747908497692\n",
      "Test score is: 0.7566771098492265\n"
     ]
    }
   ],
   "source": [
    "print(\"Train score is:\", model3.score(X_train, y_train))\n",
    "print(\"Test score is:\",model3.score(X_test,y_test))"
   ]
  },
  {
   "cell_type": "code",
   "execution_count": 115,
   "id": "f1ca69cd",
   "metadata": {},
   "outputs": [],
   "source": [
    "# Predicting Train & Test Results\n",
    "y_dt = model3.predict(X_train)\n",
    "y_pred_dt = model3.predict(X_test)"
   ]
  },
  {
   "cell_type": "code",
   "execution_count": 117,
   "id": "1869138c",
   "metadata": {},
   "outputs": [
    {
     "name": "stdout",
     "output_type": "stream",
     "text": [
      "precision on Training set:  0.671471035074972\n",
      "precision on Testing set:  0.6738546258422355\n"
     ]
    }
   ],
   "source": [
    "#Hassasiyet(precision)\n",
    "from sklearn.metrics import precision_score\n",
    "print(\"precision on Training set: \",metrics.precision_score(y_train, y_dt))\n",
    "print(\"precision on Testing set: \",metrics.precision_score(y_test, y_pred_dt))"
   ]
  },
  {
   "cell_type": "code",
   "execution_count": 118,
   "id": "e2eb9b1e",
   "metadata": {},
   "outputs": [
    {
     "name": "stdout",
     "output_type": "stream",
     "text": [
      "recall on Training set:  0.9954903564136337\n",
      "recall on Testing set:  0.9957942097026604\n"
     ]
    }
   ],
   "source": [
    "#geri çağırma\n",
    "from sklearn.metrics import recall_score\n",
    "\n",
    "print(\"recall on Training set: \",metrics.recall_score(y_train, y_dt))\n",
    "print(\"recall on Testing set: \",metrics.recall_score(y_test, y_pred_dt))"
   ]
  },
  {
   "cell_type": "code",
   "execution_count": 119,
   "id": "793a7337",
   "metadata": {},
   "outputs": [
    {
     "name": "stdout",
     "output_type": "stream",
     "text": [
      "F1-Score  on Training set:  0.8019897082694785\n",
      "F1-Score on Testing set:  0.8037864253965246\n"
     ]
    }
   ],
   "source": [
    "#F1 skoru\n",
    "from sklearn.metrics import f1_score\n",
    "\n",
    "print(\"F1-Score  on Training set: \",metrics.f1_score(y_train, y_dt))\n",
    "print(\"F1-Score on Testing set: \",metrics.f1_score(y_test, y_pred_dt))"
   ]
  },
  {
   "cell_type": "markdown",
   "id": "479df881",
   "metadata": {},
   "source": [
    "# Random Forest Classifier"
   ]
  },
  {
   "cell_type": "code",
   "execution_count": 120,
   "id": "00cf44cc",
   "metadata": {},
   "outputs": [],
   "source": [
    "from sklearn.ensemble import RandomForestClassifier"
   ]
  },
  {
   "cell_type": "code",
   "execution_count": 121,
   "id": "1f7b13ea",
   "metadata": {},
   "outputs": [],
   "source": [
    "model4 = RandomForestClassifier(n_estimators=30)"
   ]
  },
  {
   "cell_type": "code",
   "execution_count": 122,
   "id": "bfc6bf40",
   "metadata": {},
   "outputs": [],
   "source": [
    "start_time = time.time()\n",
    "model4.fit(X_train, y_train)\n",
    "end_time = time.time()"
   ]
  },
  {
   "cell_type": "code",
   "execution_count": 123,
   "id": "f2ef89e3",
   "metadata": {},
   "outputs": [
    {
     "name": "stdout",
     "output_type": "stream",
     "text": [
      "Training time:  19.52021837234497\n"
     ]
    }
   ],
   "source": [
    "print(\"Training time: \",end_time-start_time)"
   ]
  },
  {
   "cell_type": "code",
   "execution_count": 124,
   "id": "862a3d8b",
   "metadata": {},
   "outputs": [],
   "source": [
    "start_time = time.time()\n",
    "Y_test_pred4 = model4.predict(X_test)\n",
    "end_time = time.time()"
   ]
  },
  {
   "cell_type": "code",
   "execution_count": 125,
   "id": "0f4f6c55",
   "metadata": {},
   "outputs": [
    {
     "name": "stdout",
     "output_type": "stream",
     "text": [
      "Testing time:  0.2840006351470947\n"
     ]
    }
   ],
   "source": [
    "print(\"Testing time: \",end_time-start_time)\n"
   ]
  },
  {
   "cell_type": "code",
   "execution_count": 126,
   "id": "021a4fca",
   "metadata": {},
   "outputs": [
    {
     "name": "stdout",
     "output_type": "stream",
     "text": [
      "Train score is: 0.9998653801908175\n",
      "Test score is: 0.9997454474251029\n"
     ]
    }
   ],
   "source": [
    "print(\"Train score is:\", model4.score(X_train, y_train))\n",
    "print(\"Test score is:\",model4.score(X_test,y_test))"
   ]
  },
  {
   "cell_type": "code",
   "execution_count": 142,
   "id": "ec93435e",
   "metadata": {},
   "outputs": [],
   "source": [
    "# Predicting Train & Test Results\n",
    "y_dt = model4.predict(X_train)\n",
    "y_pred_dt = model4.predict(X_test)"
   ]
  },
  {
   "cell_type": "code",
   "execution_count": 143,
   "id": "83fc4efe",
   "metadata": {},
   "outputs": [
    {
     "name": "stdout",
     "output_type": "stream",
     "text": [
      "precision on Training set:  0.9999804096345417\n",
      "precision on Testing set:  0.999804358884063\n"
     ]
    }
   ],
   "source": [
    "#Hassasiyet(precision)\n",
    "from sklearn.metrics import precision_score\n",
    "print(\"precision on Training set: \",metrics.precision_score(y_train, y_dt))\n",
    "print(\"precision on Testing set: \",metrics.precision_score(y_test, y_pred_dt))"
   ]
  },
  {
   "cell_type": "code",
   "execution_count": 144,
   "id": "f1b40ab1",
   "metadata": {},
   "outputs": [
    {
     "name": "stdout",
     "output_type": "stream",
     "text": [
      "recall on Training set:  0.9997502803225791\n",
      "recall on Testing set:  0.9996870109546165\n"
     ]
    }
   ],
   "source": [
    "#geri çağırma\n",
    "from sklearn.metrics import recall_score\n",
    "\n",
    "print(\"recall on Training set: \",metrics.recall_score(y_train, y_dt))\n",
    "print(\"recall on Testing set: \",metrics.recall_score(y_test, y_pred_dt))"
   ]
  },
  {
   "cell_type": "code",
   "execution_count": 145,
   "id": "a3720fd7",
   "metadata": {},
   "outputs": [
    {
     "name": "stdout",
     "output_type": "stream",
     "text": [
      "F1-Score  on Training set:  0.9998653317369023\n",
      "F1-Score on Testing set:  0.99974568147583\n"
     ]
    }
   ],
   "source": [
    "#F1 skoru\n",
    "from sklearn.metrics import f1_score\n",
    "\n",
    "print(\"F1-Score  on Training set: \",metrics.f1_score(y_train, y_dt))\n",
    "print(\"F1-Score on Testing set: \",metrics.f1_score(y_test, y_pred_dt))"
   ]
  },
  {
   "cell_type": "markdown",
   "id": "51225ea4",
   "metadata": {},
   "source": [
    "# TRAINING ACCURACY"
   ]
  },
  {
   "cell_type": "code",
   "execution_count": 129,
   "id": "c06b649b",
   "metadata": {},
   "outputs": [
    {
     "data": {
      "text/plain": [
       "<BarContainer object of 4 artists>"
      ]
     },
     "execution_count": 129,
     "metadata": {},
     "output_type": "execute_result"
    },
    {
     "data": {
      "image/png": "[encoded data removed]",
      "text/plain": [
       "<Figure size 1500x300 with 1 Axes>"
      ]
     },
     "metadata": {},
     "output_type": "display_data"
    }
   ],
   "source": [
    "names = ['DT','LR','NB','RF']\n",
    "values = [99.0838,95.0827,75.4274,99.9865]\n",
    "f = plt.figure(figsize=(15,3),num=10)\n",
    "plt.subplot(131)\n",
    "plt.ylim(70,102)\n",
    "plt.bar(names,values)"
   ]
  },
  {
   "cell_type": "markdown",
   "id": "d592e185",
   "metadata": {},
   "source": [
    "# TEST ACCURACY"
   ]
  },
  {
   "cell_type": "code",
   "execution_count": 134,
   "id": "455d7679",
   "metadata": {},
   "outputs": [
    {
     "data": {
      "text/plain": [
       "<BarContainer object of 4 artists>"
      ]
     },
     "execution_count": 134,
     "metadata": {},
     "output_type": "execute_result"
    },
    {
     "data": {
      "image/png": "[encoded data removed]",
      "text/plain": [
       "<Figure size 1500x300 with 1 Axes>"
      ]
     },
     "metadata": {},
     "output_type": "display_data"
    }
   ],
   "source": [
    "names = ['DT','LR','NB','RF']\n",
    "values = [99.0689,95.1116,75.4274,99.9745]\n",
    "f = plt.figure(figsize=(15,3),num=10)\n",
    "plt.subplot(131)\n",
    "plt.ylim(70,102)\n",
    "plt.bar(names,values)"
   ]
  },
  {
   "cell_type": "markdown",
   "id": "86dbbffd",
   "metadata": {},
   "source": [
    "# TRAINING TIME"
   ]
  },
  {
   "cell_type": "code",
   "execution_count": 149,
   "id": "1916aa87",
   "metadata": {},
   "outputs": [
    {
     "data": {
      "text/plain": [
       "<BarContainer object of 4 artists>"
      ]
     },
     "execution_count": 149,
     "metadata": {},
     "output_type": "execute_result"
    },
    {
     "data": {
      "image/png": "[encoded data removed]",
      "text/plain": [
       "<Figure size 1500x300 with 1 Axes>"
      ]
     },
     "metadata": {},
     "output_type": "display_data"
    }
   ],
   "source": [
    "names = ['DT','LR','NB','RF']\n",
    "values = [3.016832,12.535989,0.599255,19.520218]\n",
    "f = plt.figure(figsize=(15,3),num=10)\n",
    "plt.subplot(131)\n",
    "plt.ylim(0,25)\n",
    "plt.bar(names,values)"
   ]
  },
  {
   "cell_type": "markdown",
   "id": "c08fb7b4",
   "metadata": {},
   "source": [
    "# TESTING TIME"
   ]
  },
  {
   "cell_type": "code",
   "execution_count": 153,
   "id": "44ea38a2",
   "metadata": {},
   "outputs": [
    {
     "data": {
      "text/plain": [
       "<BarContainer object of 4 artists>"
      ]
     },
     "execution_count": 153,
     "metadata": {},
     "output_type": "execute_result"
    },
    {
     "data": {
      "image/png": "[encoded data removed]",
      "text/plain": [
       "<Figure size 1500x300 with 1 Axes>"
      ]
     },
     "metadata": {},
     "output_type": "display_data"
    }
   ],
   "source": [
    "names = ['DT','LR','NB','RF']\n",
    "values = [0.024205,0.016349,0.139145,0.284000]\n",
    "f = plt.figure(figsize=(15,3),num=10)\n",
    "plt.subplot(131)\n",
    "plt.ylim(0,0.3)\n",
    "plt.bar(names,values)"
   ]
  },
  {
   "cell_type": "markdown",
   "id": "47d467f1",
   "metadata": {},
   "source": [
    "# Precision on Traning Set"
   ]
  },
  {
   "cell_type": "code",
   "execution_count": 156,
   "id": "514d1925",
   "metadata": {},
   "outputs": [
    {
     "data": {
      "text/plain": [
       "<BarContainer object of 4 artists>"
      ]
     },
     "execution_count": 156,
     "metadata": {},
     "output_type": "execute_result"
    },
    {
     "data": {
      "image/png": "[encoded data removed]",
      "text/plain": [
       "<Figure size 1500x300 with 1 Axes>"
      ]
     },
     "metadata": {},
     "output_type": "display_data"
    }
   ],
   "source": [
    "names = ['DT','LR','NB','RF']\n",
    "values = [99.4304,92.6498,67.1471,99.9980]\n",
    "f = plt.figure(figsize=(15,3),num=10)\n",
    "plt.subplot(131)\n",
    "plt.ylim(60,102)\n",
    "plt.bar(names,values)"
   ]
  },
  {
   "cell_type": "markdown",
   "id": "e461057a",
   "metadata": {},
   "source": [
    "# Recall on Traning Set"
   ]
  },
  {
   "cell_type": "code",
   "execution_count": 161,
   "id": "95c4ea55",
   "metadata": {},
   "outputs": [
    {
     "data": {
      "text/plain": [
       "<BarContainer object of 4 artists>"
      ]
     },
     "execution_count": 161,
     "metadata": {},
     "output_type": "execute_result"
    },
    {
     "data": {
      "image/png": "[encoded data removed]",
      "text/plain": [
       "<Figure size 1500x300 with 1 Axes>"
      ]
     },
     "metadata": {},
     "output_type": "display_data"
    }
   ],
   "source": [
    "names = ['DT','LR','NB','RF']\n",
    "values = [98.7327,97.9322,99.54903,99.97502]\n",
    "f = plt.figure(figsize=(15,3),num=10)\n",
    "plt.subplot(131)\n",
    "plt.ylim(95,101)\n",
    "plt.bar(names,values)"
   ]
  },
  {
   "cell_type": "markdown",
   "id": "2ac94226",
   "metadata": {},
   "source": [
    "# F1 Score  on Traning Set"
   ]
  },
  {
   "cell_type": "code",
   "execution_count": 163,
   "id": "cb4f1bed",
   "metadata": {},
   "outputs": [
    {
     "data": {
      "text/plain": [
       "<BarContainer object of 4 artists>"
      ]
     },
     "execution_count": 163,
     "metadata": {},
     "output_type": "execute_result"
    },
    {
     "data": {
      "image/png": "[encoded data removed]",
      "text/plain": [
       "<Figure size 1500x300 with 1 Axes>"
      ]
     },
     "metadata": {},
     "output_type": "display_data"
    }
   ],
   "source": [
    "names = ['DT','LR','NB','RF']\n",
    "values = [99.0804,95.2178,80.1989,99.9865]\n",
    "f = plt.figure(figsize=(15,3),num=10)\n",
    "plt.subplot(131)\n",
    "plt.ylim(70,101)\n",
    "plt.bar(names,values)"
   ]
  },
  {
   "cell_type": "code",
   "execution_count": null,
   "id": "5ff2f7ff",
   "metadata": {},
   "outputs": [],
   "source": []
  }
 ],
 "metadata": {
  "kernelspec": {
   "display_name": "Python 3 (ipykernel)",
   "language": "python",
   "name": "python3"
  },
  "language_info": {
   "codemirror_mode": {
    "name": "ipython",
    "version": 3
   },
   "file_extension": ".py",
   "mimetype": "text/x-python",
   "name": "python",
   "nbconvert_exporter": "python",
   "pygments_lexer": "ipython3",
   "version": "3.11.3"
  }
 },
 "nbformat": 4,
 "nbformat_minor": 5
}
